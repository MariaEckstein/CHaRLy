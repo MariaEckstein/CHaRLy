{
 "cells": [
  {
   "cell_type": "markdown",
   "metadata": {},
   "source": [
    "# Prep"
   ]
  },
  {
   "cell_type": "markdown",
   "metadata": {},
   "source": [
    "## Imports & paths"
   ]
  },
  {
   "cell_type": "code",
   "execution_count": null,
   "metadata": {},
   "outputs": [],
   "source": [
    "import json\n",
    "import numpy as np\n",
    "import os\n",
    "import pandas as pd\n",
    "import plotnine as gg\n",
    "gg.theme_set(gg.theme_classic)\n",
    "default_figure_size = (6.4, 4.8)"
   ]
  },
  {
   "cell_type": "code",
   "execution_count": null,
   "metadata": {},
   "outputs": [],
   "source": [
    "# data_dir = 'C:/Users/maria/MEGAsync/Berkeley/CHaRLy/data/mTurk1'\n",
    "data_dir = 'C:/Users/maria/MEGAsync/Berkeley/CHaRLy/data/RPP34'\n",
    "plot_dir = data_dir + 'figures'\n",
    "if not os.path.exists(plot_dir):\n",
    "    os.makedirs(plot_dir)"
   ]
  },
  {
   "cell_type": "markdown",
   "metadata": {},
   "source": [
    "## Get all_data"
   ]
  },
  {
   "cell_type": "code",
   "execution_count": null,
   "metadata": {
    "scrolled": true
   },
   "outputs": [],
   "source": [
    "rule_data = pd.read_csv(os.path.join(data_dir, 'rule_data.csv'), index_col=0)\n",
    "rule_data.loc[rule_data.phase == 'high'][:30]"
   ]
  },
  {
   "cell_type": "code",
   "execution_count": null,
   "metadata": {},
   "outputs": [],
   "source": [
    "all_data = pd.read_csv(os.path.join(data_dir, 'all_data.csv'), index_col=0)\n",
    "incl_data = all_data.loc[np.invert(all_data.chance_performer) & np.invert(all_data.inattentives)]\n",
    "all_data"
   ]
  },
  {
   "cell_type": "code",
   "execution_count": null,
   "metadata": {},
   "outputs": [],
   "source": [
    "interesting_cols = [\n",
    "#     'sid',\n",
    "    'trial_type', 'phase', 'block', 'trial', 'trial_', 'subtrial', 'points', 'rt', #'key_press',\n",
    "    'action_id', 'action_name', 'middle_item', 'middle_item_name', 'goal_star', 'goal_star_name', 'correct', 'unlocked_star',\n",
    "    'unlocked_star_name', 'timeout', 'star_iteration',\n",
    "#     'middle_item_lowTransferRules', 'middle_item_lowRules', 'bool_middle_item_lowRules',\n",
    "#     'unlocked_star_highTransferRules', 'unlocked_star_highRules', 'bool_unlocked_star_highRules',\n",
    "#     'chance_performer',\n",
    "]"
   ]
  },
  {
   "cell_type": "markdown",
   "metadata": {},
   "source": [
    "## Functions to make dataframes"
   ]
  },
  {
   "cell_type": "code",
   "execution_count": null,
   "metadata": {
    "scrolled": true
   },
   "outputs": [],
   "source": [
    "# rt_sum\n",
    "def get_rt_sum(data, id_cols):\n",
    "    \n",
    "    rt_sum_dat_subtrial = data.groupby(id_cols + ['subtrial']).aggregate('mean').reset_index()[id_cols + ['subtrial', 'rt']]\n",
    "    rt_sum_dat = data.groupby(id_cols).aggregate('mean').reset_index()[id_cols + ['rt', 'acc']]\n",
    "    rt_sum_dat = rt_sum_dat.rename(columns={'rt': 'mean_rt'})\n",
    "\n",
    "    rt_sum = pd.merge(rt_sum_dat, rt_sum_dat_subtrial, on=id_cols)\n",
    "    rt_sum['rt_delta'] = rt_sum['rt'] - rt_sum['mean_rt']\n",
    "    \n",
    "    return rt_sum\n",
    "\n",
    "# # Example use\n",
    "# get_rt_sum(incl_data, id_cols=['sid', 'phase', 'trial_type'])"
   ]
  },
  {
   "cell_type": "code",
   "execution_count": null,
   "metadata": {
    "scrolled": true
   },
   "outputs": [],
   "source": [
    "def rt_sum2zigzag(rt_sum, id_cols):\n",
    "    \n",
    "    rt_wide = rt_sum.pivot_table(index=id_cols + ['acc'], columns='subtrial', values='rt_delta').reset_index()\n",
    "    rt_wide = rt_wide.rename(columns={i: 'rt_delta_{}'.format(i) for i in range(4)})\n",
    "    rt_wide['rt_zigzag'] = rt_wide['rt_delta_0'] - rt_wide['rt_delta_1'] + rt_wide['rt_delta_2'] - rt_wide['rt_delta_3']\n",
    "    \n",
    "    return rt_wide\n",
    "\n",
    "# # Example use\n",
    "# rt_sum2zigzag(rt_sum, id_cols=['sid', 'phase', 'trial_type'])"
   ]
  },
  {
   "cell_type": "code",
   "execution_count": null,
   "metadata": {},
   "outputs": [],
   "source": [
    "def add_info_to_rt_wide(rt_wide, id_cols, all_data):\n",
    "    \n",
    "    add_dat = all_data.groupby(id_cols).aggregate('mean').reset_index()[\n",
    "        id_cols + [\n",
    "            'goal_star', 'star_iteration',  # Only meaningful for rt_wide_block\n",
    "            'rt',\n",
    "            'bool_middle_item_lowRulesLearnOnly', 'bool_middle_item_lowRulesTransferOnly',\n",
    "            'bool_unlocked_star_highRulesLearnOnly', 'bool_unlocked_star_highRulesTransferOnly',\n",
    "        ]]\n",
    "    \n",
    "    rt_wide = pd.merge(rt_wide, add_dat, on=id_cols)\n",
    "    \n",
    "    return rt_wide\n",
    "\n",
    "# # Example use\n",
    "# id_cols = ['sid', 'phase', 'trial_type', 'block']\n",
    "# add_info_to_rt_wide(rt_wide_block, id_cols, all_data)"
   ]
  },
  {
   "cell_type": "code",
   "execution_count": null,
   "metadata": {},
   "outputs": [],
   "source": [
    "# Get rt_sum\n",
    "id_cols = ['sid', 'chance_performer', 'phase', 'phaseNum', 'trial_type']\n",
    "rt_sum = get_rt_sum(incl_data, id_cols)\n",
    "rt_wide = rt_sum2zigzag(rt_sum, id_cols)\n",
    "rt_wide = add_info_to_rt_wide(rt_wide, id_cols, all_data).drop(columns=['goal_star', 'star_iteration'], axis=1)\n",
    "rt_wide"
   ]
  },
  {
   "cell_type": "code",
   "execution_count": null,
   "metadata": {},
   "outputs": [],
   "source": [
    "# Get rt_sum_block\n",
    "id_cols = ['sid', 'chance_performer', 'phase', 'phaseNum', 'trial_type', 'block']\n",
    "rt_sum_block = get_rt_sum(all_data, id_cols)\n",
    "rt_wide_block = rt_sum2zigzag(rt_sum_block, id_cols)\n",
    "rt_wide_block = add_info_to_rt_wide(rt_wide_block, id_cols, all_data)\n",
    "rt_wide_block"
   ]
  },
  {
   "cell_type": "markdown",
   "metadata": {},
   "source": [
    "# Results"
   ]
  },
  {
   "cell_type": "markdown",
   "metadata": {},
   "source": [
    "## Population-wide"
   ]
  },
  {
   "cell_type": "code",
   "execution_count": null,
   "metadata": {},
   "outputs": [],
   "source": [
    "# Plot\n",
    "g = (gg.ggplot(rt_sum, gg.aes('subtrial', 'rt_delta'))\n",
    "     + gg.geom_point(gg.aes(color='factor(sid)'), position=gg.position_dodge(width=0.2))\n",
    "     + gg.geom_line(gg.aes(color='factor(sid)'), position=gg.position_dodge(width=0.2), linetype='dotted')\n",
    "     + gg.stat_summary()\n",
    "     + gg.stat_summary(geom='line')\n",
    "     + gg.facet_grid('phase ~ trial_type')\n",
    ")\n",
    "g.save(os.path.join(plot_dir, '01_RTOverSubtrial.png'))\n",
    "print(g)"
   ]
  },
  {
   "cell_type": "code",
   "execution_count": null,
   "metadata": {},
   "outputs": [],
   "source": [
    "# There is more extra zigzag during low transfer than high transfer\n",
    "# => Because middle-layer items needs to be re-learned\n",
    "g = (gg.ggplot(rt_wide_block, gg.aes('factor(star_iteration)', 'rt_zigzag', color='phase', group='phase'))\n",
    "     + gg.stat_summary(position=gg.position_dodge(width=0.1))\n",
    "     + gg.stat_summary(position=gg.position_dodge(width=0.1), geom='line')\n",
    "     + gg.facet_grid('phaseNum ~ trial_type', labeller='label_context')\n",
    "    )\n",
    "g.save(os.path.join(plot_dir, '01_RtzigzagOverStarIteration.png'))\n",
    "print(g)"
   ]
  },
  {
   "cell_type": "code",
   "execution_count": null,
   "metadata": {},
   "outputs": [],
   "source": [
    "def zscore(values):\n",
    "    \n",
    "    return (values - np.mean(values)) / np.std(values)\n",
    "\n",
    "# Example use\n",
    "zscore(np.arange(6))"
   ]
  },
  {
   "cell_type": "code",
   "execution_count": null,
   "metadata": {},
   "outputs": [],
   "source": [
    "def zigzag(rts):\n",
    "    \n",
    "    assert len(rts) == 4\n",
    "    return rts[0] - rts[1] + rts[2] - rts[3]\n",
    "\n",
    "# Example use\n",
    "zigzag([1, -1, 1, -1])"
   ]
  },
  {
   "cell_type": "code",
   "execution_count": null,
   "metadata": {
    "scrolled": true
   },
   "outputs": [],
   "source": [
    "def add_zrt_and_rtzigzag(all_data, verbose=True):\n",
    "    \n",
    "    for sid in np.unique(all_data['sid']):\n",
    "        print('sid {} / {}'.format(sid, len(np.unique(all_data['sid']))))\n",
    "\n",
    "        for phase in np.unique(all_data['phase']):\n",
    "            for trial_type in np.unique(all_data['trial_type']):\n",
    "                for block in np.unique(all_data['block']):\n",
    "\n",
    "                    # Get indixes for this sid, this phase, this trial_type, and this block\n",
    "                    sub_idx = (\n",
    "                        all_data['sid'] == sid) & (\n",
    "                        all_data['phase'] == phase) & (\n",
    "                        all_data['trial_type'] == trial_type) & (\n",
    "                        all_data['block'] == block\n",
    "                    )\n",
    "\n",
    "                    if np.sum(sub_idx) > 0:\n",
    "\n",
    "                        # Add z-scored RTs (z-scored with this subset)\n",
    "                        all_data.loc[sub_idx, 'z_rt'] = zscore(all_data.loc[sub_idx, 'rt'])\n",
    "                        all_data.loc[np.invert(np.isnan(all_data['z_rt']))]\n",
    "\n",
    "                        # Add RT zigzag\n",
    "                        for trial in np.unique(all_data['trial']):\n",
    "                            sub_idxx = sub_idx & (all_data['trial'] == trial)\n",
    "                            if np.sum(sub_idxx) == 4:\n",
    "                                all_data.loc[sub_idxx, 'rt_zigzag'] = zigzag(all_data.loc[sub_idxx, 'z_rt'].values)\n",
    "                                \n",
    "                    # Print out which parts of the data were missing\n",
    "                            else:\n",
    "                                if verbose:\n",
    "                                    print('\\t\\tsid {}, phase {}, trial_type {}, block {}, trial {} has {} subtrials.'\n",
    "                                          .format(sid, phase, trial_type, block, trial, np.sum(sub_idxx)))\n",
    "                    else:\n",
    "                        if verbose:\n",
    "                            print('\\tsid {}, phase {}, trial_type {}, block {} does not exist.'.format(sid, phase, trial_type, block))\n",
    "                        \n",
    "# Use\n",
    "add_zrt_and_rtzigzag(all_data)"
   ]
  },
  {
   "cell_type": "code",
   "execution_count": null,
   "metadata": {},
   "outputs": [],
   "source": [
    "sub_dat = all_data.loc[all_data['sid'].isin(np.arange(10))]"
   ]
  },
  {
   "cell_type": "code",
   "execution_count": null,
   "metadata": {},
   "outputs": [],
   "source": [
    "g = (gg.ggplot(all_data, gg.aes('subtrial', 'z_rt'))\n",
    "     + gg.stat_summary()\n",
    "     + gg.facet_grid('phase ~ trial_type')\n",
    "    )\n",
    "g"
   ]
  },
  {
   "cell_type": "code",
   "execution_count": null,
   "metadata": {},
   "outputs": [],
   "source": [
    "g = (gg.ggplot(all_data, gg.aes('block', 'rt_zigzag', color='phase'))\n",
    "     + gg.stat_summary()\n",
    "     + gg.stat_summary(geom='line')\n",
    "     + gg.facet_grid('phaseNum ~ trial_type')\n",
    "    )\n",
    "g"
   ]
  },
  {
   "cell_type": "code",
   "execution_count": null,
   "metadata": {},
   "outputs": [],
   "source": [
    "g = (gg.ggplot(all_data, gg.aes('star_iteration', 'rt_zigzag', color='phase'))\n",
    "     + gg.stat_summary()\n",
    "     + gg.stat_summary(geom='line')\n",
    "     + gg.facet_grid('phaseNum ~ trial_type')\n",
    "    )\n",
    "g"
   ]
  },
  {
   "cell_type": "code",
   "execution_count": null,
   "metadata": {},
   "outputs": [],
   "source": [
    "g = (gg.ggplot(all_data, gg.aes('acc', 'rt_zigzag', color='phase'))\n",
    "     + gg.stat_summary(geom='pointrange')\n",
    "     + gg.facet_grid('phaseNum ~ trial_type')\n",
    "    )\n",
    "g"
   ]
  },
  {
   "cell_type": "code",
   "execution_count": null,
   "metadata": {},
   "outputs": [],
   "source": [
    "id_cols = ['sid', 'phase', 'trial_type']\n",
    "dat = all_data.groupby(id_cols).aggregate('mean').reset_index()[id_cols + ['rt_zigzag']]\n",
    "dat2 = pd.merge(\n",
    "    dat.loc[dat['phase'] == 'low'].drop(columns=['phase']),\n",
    "    dat.loc[dat['phase'] == 'high'].drop(columns=['phase']),\n",
    "    on=['sid', 'trial_type'],\n",
    "    suffixes=['_low', '_high']\n",
    ")\n",
    "dat2['rt_zigzag_low_minus_high'] = dat2['rt_zigzag_low'] - dat2['rt_zigzag_high']\n",
    "dat2"
   ]
  },
  {
   "cell_type": "code",
   "execution_count": null,
   "metadata": {},
   "outputs": [],
   "source": [
    "g = (gg.ggplot(dat2, gg.aes('trial_type', 'rt_zigzag_low_minus_high'))\n",
    "     + gg.stat_summary()\n",
    "    )\n",
    "g"
   ]
  },
  {
   "cell_type": "code",
   "execution_count": null,
   "metadata": {},
   "outputs": [],
   "source": [
    "id_cols = ['sid', 'trial_type', 'block', 'goal_star']\n",
    "interest_cols = ['rt_zigzag', 'acc']\n",
    "dat = all_data.groupby(id_cols + ['phase']).aggregate('mean').reset_index()[id_cols + ['phase'] + interest_cols]\n",
    "dat2 = pd.merge(\n",
    "    dat.loc[dat['phase'] == 'low'].drop(columns=['phase']),\n",
    "    dat.loc[dat['phase'] == 'high'].drop(columns=['phase']),\n",
    "    on=id_cols,\n",
    "    suffixes=['_low', '_high']\n",
    ")\n",
    "dat2['rt_zigzag_low_minus_high'] = dat2['rt_zigzag_low'] - dat2['rt_zigzag_high']\n",
    "dat2"
   ]
  },
  {
   "cell_type": "code",
   "execution_count": null,
   "metadata": {},
   "outputs": [],
   "source": [
    "g = (gg.ggplot(dat, gg.aes('block', 'rt_zigzag', color='phase'))\n",
    "     + gg.stat_summary()\n",
    "     + gg.stat_summary(geom='line')\n",
    "     + gg.facet_grid(' ~ trial_type')\n",
    "    )\n",
    "g"
   ]
  },
  {
   "cell_type": "code",
   "execution_count": null,
   "metadata": {},
   "outputs": [],
   "source": [
    "g = (gg.ggplot(dat2, gg.aes('block', 'rt_zigzag_low_minus_high'))\n",
    "     + gg.stat_summary()\n",
    "     + gg.stat_summary(geom='line')\n",
    "     + gg.geom_hline(yintercept=0, linetype='dotted')\n",
    "     + gg.facet_grid('~ trial_type')\n",
    "    )\n",
    "g"
   ]
  },
  {
   "cell_type": "code",
   "execution_count": null,
   "metadata": {
    "scrolled": false
   },
   "outputs": [],
   "source": [
    "g = (gg.ggplot(dat, gg.aes('rt_zigzag', 'acc', color='factor(sid)', shape='factor(goal_star)'))\n",
    "     + gg.geom_point()\n",
    "     + gg.geom_line(gg.aes(group='factor(sid)'), alpha=0.2)\n",
    "     + gg.geom_smooth(group=1, color='black')\n",
    "     + gg.facet_grid('phase ~ trial_type + goal_star')\n",
    "    )\n",
    "print(g)\n",
    "# g.save(os.path.join(plot_dir, '01_RtzigzagAcc_0.png'))\n",
    "\n",
    "# g2 = g\n",
    "# g2.data = rt_wide_block.loc[rt_wide_block.acc > 0]\n",
    "# print(g2)\n",
    "# g2.save(os.path.join(plot_dir, '01_RtzigzagAcc.png'))"
   ]
  },
  {
   "cell_type": "code",
   "execution_count": null,
   "metadata": {},
   "outputs": [],
   "source": []
  },
  {
   "cell_type": "code",
   "execution_count": null,
   "metadata": {},
   "outputs": [],
   "source": [
    "all_data[interesting_cols[:-2] + ['z_rt', 'rt_zigzag']]"
   ]
  },
  {
   "cell_type": "code",
   "execution_count": null,
   "metadata": {},
   "outputs": [],
   "source": [
    "all_data.loc[(np.isnan(all_data['z_rt']))]"
   ]
  },
  {
   "cell_type": "code",
   "execution_count": null,
   "metadata": {},
   "outputs": [],
   "source": [
    "(gg.ggplot(sub_dat, gg.aes('subtrial', 'z_rt'))\n",
    " + gg.geom_point()\n",
    " + gg.stat_summary(geom='bar')\n",
    ")"
   ]
  },
  {
   "cell_type": "code",
   "execution_count": null,
   "metadata": {},
   "outputs": [],
   "source": [
    "all_data[]\n",
    "all_data.loc[all_data['subtrial'] == 0, 'rt']"
   ]
  },
  {
   "cell_type": "code",
   "execution_count": null,
   "metadata": {},
   "outputs": [],
   "source": [
    "rt_wide_block"
   ]
  },
  {
   "cell_type": "code",
   "execution_count": null,
   "metadata": {},
   "outputs": [],
   "source": [
    "g = (gg.ggplot(rt_wide, gg.aes('rt_zigzag', 'acc', color='factor(sid)'))\n",
    "     + gg.geom_point()\n",
    "     + gg.geom_smooth(group=1)\n",
    "     + gg.facet_grid('phase ~ trial_type')\n",
    "    )\n",
    "g.save(os.path.join(plot_dir, '01_CorrelationRtzigzagPerformance.png'))\n",
    "print(g)"
   ]
  },
  {
   "cell_type": "markdown",
   "metadata": {},
   "source": [
    "## Individuals"
   ]
  },
  {
   "cell_type": "code",
   "execution_count": null,
   "metadata": {},
   "outputs": [],
   "source": [
    "def plot_RTOverSubtrialDetails(dat, suf=''):\n",
    "    \n",
    "    g = (gg.ggplot(dat, gg.aes('subtrial', 'rt', color='factor(sid)', group='sid', linetype='chance_performer'))\n",
    "         + gg.stat_summary(position=gg.position_dodge(width=0.2))\n",
    "         + gg.stat_summary(position=gg.position_dodge(width=0.2), geom='line')\n",
    "         + gg.facet_grid('phase ~ phaseNum + trial_type')\n",
    "        )\n",
    "    g.save(os.path.join(plot_dir, '01_RTOverSubtrial_Details{}.png'.format(suf)))\n",
    "    \n",
    "    return g\n",
    "\n",
    "# Use\n",
    "rts_all = plot_RTOverSubtrialDetails(all_data, '_all')\n",
    "plot_RTOverSubtrialDetails(incl_data)"
   ]
  },
  {
   "cell_type": "markdown",
   "metadata": {},
   "source": [
    "## RT pattern || behavior on a single-block level"
   ]
  },
  {
   "cell_type": "code",
   "execution_count": null,
   "metadata": {},
   "outputs": [],
   "source": [
    "gg.options.figure_size = (10, 7)\n",
    "g = (gg.ggplot(rt_wide_block, gg.aes('block', 'rt_zigzag', color='factor(sid)', shape='factor(goal_star)', linetype='chance_performer'))\n",
    "     + gg.geom_point(gg.aes(size='acc'), position=gg.position_dodge(width=0.5))\n",
    "     + gg.geom_line(gg.aes(group='factor(sid)'), position=gg.position_dodge(width=0.5))\n",
    "     + gg.facet_grid('phase ~ trial_type')\n",
    "    )\n",
    "g.save(os.path.join(plot_dir, '01_RtzigzagOverBlocks.png'))\n",
    "print(g)\n",
    "gg.options.figure_size = default_figure_size"
   ]
  },
  {
   "cell_type": "code",
   "execution_count": null,
   "metadata": {
    "scrolled": false
   },
   "outputs": [],
   "source": [
    "g = (gg.ggplot(rt_wide_block, gg.aes('acc', 'rt_zigzag', color='factor(sid)', shape='factor(goal_star)'))\n",
    "     + gg.geom_point()\n",
    "     + gg.geom_line(gg.aes(group='factor(sid)'), alpha=0.2)\n",
    "     + gg.geom_smooth(group=1, color='black')\n",
    "     + gg.facet_grid('phase ~ trial_type')\n",
    "    )\n",
    "print(g)\n",
    "g.save(os.path.join(plot_dir, '01_RtzigzagAcc_0.png'))\n",
    "\n",
    "g2 = g\n",
    "g2.data = rt_wide_block.loc[rt_wide_block.acc > 0]\n",
    "print(g2)\n",
    "g2.save(os.path.join(plot_dir, '01_RtzigzagAcc.png'))"
   ]
  },
  {
   "cell_type": "code",
   "execution_count": null,
   "metadata": {
    "scrolled": true
   },
   "outputs": [],
   "source": [
    "# RT zigzag supports learning middle-layer items: no zigzag = no middle-layer items\n",
    "# lots of zigzag = intermediate performance (learning); no zigzag = perfect performance (no distrimination)\n",
    "gll = g + gg.aes(x='bool_middle_item_lowRulesLearnOnly')\n",
    "gll.save(os.path.join(plot_dir, '01_RtzigzagLoWRulesLearn.png'))\n",
    "gll"
   ]
  },
  {
   "cell_type": "code",
   "execution_count": null,
   "metadata": {
    "scrolled": false
   },
   "outputs": [],
   "source": [
    "# ???\n",
    "glt = g + gg.aes(x='bool_middle_item_lowRulesTransferOnly')\n",
    "glt.save(os.path.join(plot_dir, '01_RtzigzagLoWRulesTransfer.png'))\n",
    "glt"
   ]
  },
  {
   "cell_type": "code",
   "execution_count": null,
   "metadata": {
    "scrolled": false
   },
   "outputs": [],
   "source": [
    "# Good star performance comes AFTER learning middle-layer items => when RT zigzag is gone completely.\n",
    "ghl = g + gg.aes(x='bool_unlocked_star_highRulesLearnOnly')\n",
    "ghl.save(os.path.join(plot_dir, '01_RtzigzagHighRulesLearn.png'))\n",
    "ghl"
   ]
  },
  {
   "cell_type": "code",
   "execution_count": null,
   "metadata": {
    "scrolled": false
   },
   "outputs": [],
   "source": [
    "# High-level transfer does NOT require relearning middle-layer sequences\n",
    "# => RT zigzag occurs in the beginning, when trying out different middle-layer sequences, and then dies out as we learn them\n",
    "ght = g + gg.aes(x='bool_unlocked_star_highRulesTransferOnly')\n",
    "ght.save(os.path.join(plot_dir, '01_RtzigzagHighRulesTransfer.png'))\n",
    "ght"
   ]
  },
  {
   "cell_type": "code",
   "execution_count": null,
   "metadata": {},
   "outputs": [],
   "source": []
  }
 ],
 "metadata": {
  "kernelspec": {
   "display_name": "notebooks",
   "language": "python",
   "name": "notebooks"
  },
  "language_info": {
   "codemirror_mode": {
    "name": "ipython",
    "version": 3
   },
   "file_extension": ".py",
   "mimetype": "text/x-python",
   "name": "python",
   "nbconvert_exporter": "python",
   "pygments_lexer": "ipython3",
   "version": "3.8.5"
  }
 },
 "nbformat": 4,
 "nbformat_minor": 2
}
