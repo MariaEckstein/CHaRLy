{
 "cells": [
  {
   "cell_type": "markdown",
   "metadata": {},
   "source": [
    "# Imports etc."
   ]
  },
  {
   "cell_type": "code",
   "execution_count": null,
   "metadata": {},
   "outputs": [],
   "source": [
    "import json\n",
    "import numpy as np\n",
    "import os\n",
    "import pandas as pd\n",
    "import plotnine as gg\n",
    "gg.theme_set(gg.theme_classic)\n",
    "default_figure_size = (6.4, 4.8)"
   ]
  },
  {
   "cell_type": "code",
   "execution_count": null,
   "metadata": {},
   "outputs": [],
   "source": [
    "# data_dir = 'C:/Users/maria/MEGAsync/Berkeley/CHaRLy/data/mTurk1'\n",
    "data_dir = 'C:/Users/maria/MEGAsync/Berkeley/CHaRLy/data/RPP34'\n",
    "plot_dir = data_dir + 'figures'\n",
    "if not os.path.exists(plot_dir):\n",
    "    os.makedirs(plot_dir)"
   ]
  },
  {
   "cell_type": "markdown",
   "metadata": {},
   "source": [
    "## Get all_data"
   ]
  },
  {
   "cell_type": "code",
   "execution_count": null,
   "metadata": {
    "scrolled": true
   },
   "outputs": [],
   "source": [
    "rule_data = pd.read_csv(os.path.join(data_dir, 'rule_data.csv'), index_col=0)\n",
    "rule_data.loc[rule_data.phase == 'high'][:30]"
   ]
  },
  {
   "cell_type": "code",
   "execution_count": null,
   "metadata": {},
   "outputs": [],
   "source": [
    "interesting_cols = [\n",
    "#     'sid',\n",
    "    'trial_type', 'phase', 'block', 'trial', 'trial_', 'subtrial', 'points', 'rt', #'key_press',\n",
    "    'action_id', 'action_name', 'middle_item', 'middle_item_name', 'goal_star', 'goal_star_name', 'correct', 'unlocked_star',\n",
    "    'unlocked_star_name', 'timeout', 'star_iteration',\n",
    "#     'middle_item_lowTransferRules', 'middle_item_lowRules', 'bool_middle_item_lowRules',\n",
    "#     'unlocked_star_highTransferRules', 'unlocked_star_highRules', 'bool_unlocked_star_highRules',\n",
    "    'chance_performer',\n",
    "]"
   ]
  },
  {
   "cell_type": "code",
   "execution_count": null,
   "metadata": {},
   "outputs": [],
   "source": [
    "all_data = pd.read_csv(os.path.join(data_dir, 'all_data.csv'), index_col=0)\n",
    "all_data = all_data.loc[np.invert(all_data['inattentives'])]\n",
    "all_data"
   ]
  },
  {
   "cell_type": "markdown",
   "metadata": {},
   "source": [
    "# Results"
   ]
  },
  {
   "cell_type": "code",
   "execution_count": null,
   "metadata": {},
   "outputs": [],
   "source": [
    "id_cols_trial = ['sid', 'trial_type', 'phase', 'phaseNum', 'trial']\n",
    "id_cols_block = ['sid', 'trial_type', 'phase', 'phaseNum', 'block']\n",
    "\n",
    "learn_curves_trial = all_data.groupby(id_cols_trial).aggregate('mean').reset_index()[id_cols_trial + ['acc']]\n",
    "learn_curves_block = all_data.groupby(id_cols_block).aggregate('mean').reset_index()[id_cols_block + ['acc']]\n",
    "learn_curves_trial"
   ]
  },
  {
   "cell_type": "code",
   "execution_count": null,
   "metadata": {
    "scrolled": false
   },
   "outputs": [],
   "source": [
    "# Plot performance over trials (averaged over blocks)\n",
    "g = (gg.ggplot(learn_curves_trial, gg.aes('trial', 'acc', color='phase'))\n",
    "     + gg.stat_summary(position=gg.position_dodge(width=0.1))\n",
    "     + gg.stat_summary(position=gg.position_dodge(width=0.1), geom='line')\n",
    "     + gg.facet_grid('~ trial_type')\n",
    "     + gg.labs(y='Accuracy')\n",
    "    )\n",
    "print(g)\n",
    "g.save(os.path.join(plot_dir, '103_PerformanceOverTrials.png'))\n",
    "\n",
    "# Plot performance over blocks (averaged over trials)\n",
    "g += gg.aes(x='block')\n",
    "g.data = learn_curves_block\n",
    "print(g)\n",
    "g.save(os.path.join(plot_dir, '103_PerformanceOverBlocks.png'))"
   ]
  },
  {
   "cell_type": "code",
   "execution_count": null,
   "metadata": {},
   "outputs": [],
   "source": [
    "id_cols_trial = ['sid', 'trial_type', 'phase', 'phaseNum', 'trial', 'goal_star']\n",
    "id_cols_block = ['sid', 'trial_type', 'phase', 'phaseNum', 'block', 'goal_star']\n",
    "\n",
    "learn_curves_trial = all_data.groupby(id_cols_trial).aggregate('mean').reset_index()[id_cols_trial + ['acc']]\n",
    "learn_curves_block = all_data.groupby(id_cols_block).aggregate('mean').reset_index()[id_cols_block + ['acc']]\n",
    "learn_curves_trial"
   ]
  },
  {
   "cell_type": "code",
   "execution_count": null,
   "metadata": {
    "scrolled": false
   },
   "outputs": [],
   "source": [
    "# Plot performance over trials (averaged over blocks)\n",
    "g = (gg.ggplot(learn_curves_trial, gg.aes('trial', 'acc', color='phase'))\n",
    "     + gg.stat_summary(position=gg.position_dodge(width=0.1))\n",
    "     + gg.stat_summary(position=gg.position_dodge(width=0.1), geom='line')\n",
    "     + gg.facet_grid('goal_star ~ trial_type')\n",
    "     + gg.labs(y='Accuracy')\n",
    "    )\n",
    "print(g)\n",
    "g.save(os.path.join(plot_dir, '103_PerformanceOverTrials_byGoalStar.png'))\n",
    "\n",
    "# Plot performance over blocks (averaged over trials)\n",
    "g += gg.aes(x='block')\n",
    "g.data = learn_curves_block\n",
    "print(g)\n",
    "g.save(os.path.join(plot_dir, '103_PerformanceOverBlocks_byGoalStar.png'))"
   ]
  },
  {
   "cell_type": "markdown",
   "metadata": {},
   "source": [
    "## Perseverance: Following old rules after transfer"
   ]
  },
  {
   "cell_type": "code",
   "execution_count": null,
   "metadata": {},
   "outputs": [],
   "source": [
    "id_vars_block = ['sid', 'block', 'phase', 'trial_type', 'phaseNum']\n",
    "id_vars_trial = ['sid', 'trial', 'phase', 'trial_type', 'phaseNum']\n",
    "\n",
    "melt_vars_low = ['bool_middle_item_lowRulesLearnOnly', 'bool_middle_item_lowRulesTransferOnly', 'bool_middle_item_lowRulesBoth']\n",
    "melt_vars_high = ['bool_unlocked_star_highRulesLearnOnly', 'bool_unlocked_star_highRulesTransferOnly', 'bool_unlocked_star_highRulesBoth']"
   ]
  },
  {
   "cell_type": "code",
   "execution_count": null,
   "metadata": {},
   "outputs": [],
   "source": [
    "def get_melt_dat(all_data, id_vars, melt_vars):\n",
    "    \n",
    "    # Which subtrials for high and low rules?\n",
    "    if 'low' in melt_vars[0]:\n",
    "        subtrials = [1, 3]\n",
    "    else:\n",
    "        subtrials = [3]\n",
    "        \n",
    "    # Average each participant\n",
    "    sum_dat = all_data.loc[all_data.subtrial.isin(subtrials), id_vars + melt_vars].groupby(id_vars).aggregate('mean').reset_index()\n",
    "    \n",
    "    # Split learn and transfer performance into two separate rows to be able to plot them together\n",
    "    melt_dat = sum_dat.melt(id_vars=id_vars)\n",
    "    \n",
    "    return melt_dat\n",
    "\n",
    "# Example use\n",
    "get_melt_dat(all_data, id_vars_block, melt_vars_low)"
   ]
  },
  {
   "cell_type": "code",
   "execution_count": null,
   "metadata": {},
   "outputs": [],
   "source": [
    "def combine_low_high(all_data, id_vars):\n",
    "    \n",
    "    dat_low = get_melt_dat(all_data, id_vars, melt_vars_low)\n",
    "    dat_low = dat_low.loc[dat_low['phase'] == 'low']\n",
    "\n",
    "    dat_high = get_melt_dat(all_data, id_vars, melt_vars_high)\n",
    "    dat_high = dat_high.loc[dat_high['phase'] == 'high']\n",
    "\n",
    "    dat_both = pd.concat([dat_low, dat_high])\n",
    "    dat_both['rulePhase'] = dat_both['variable'].apply(lambda x : x.split('_')[-1].split('Rules')[1])\n",
    "    \n",
    "    return dat_both\n",
    "\n",
    "# Example use\n",
    "combine_low_high(all_data, id_vars_trial)"
   ]
  },
  {
   "cell_type": "code",
   "execution_count": null,
   "metadata": {},
   "outputs": [],
   "source": [
    "# Get data\n",
    "trial_dat = combine_low_high(all_data, id_vars_trial)\n",
    "block_dat = combine_low_high(all_data, id_vars_block)\n",
    "\n",
    "# Plot rule use over Trials (averaged over blocks)\n",
    "g = (gg.ggplot(trial_dat, gg.aes('trial', 'value', color='phase'))\n",
    "     + gg.stat_summary()\n",
    "     + gg.stat_summary(geom='line')\n",
    "     + gg.facet_grid('rulePhase ~ trial_type')\n",
    "     + gg.labs(y='Frequency of rule use', color='Rule')\n",
    "    )\n",
    "g.save(os.path.join(plot_dir, '103_RuleUseOverTrials.png'))\n",
    "print(g)\n",
    "\n",
    "# Plot rule use over Blocks (averaged over trials)\n",
    "g += gg.aes(x='block')\n",
    "g.data = block_dat\n",
    "g.save(os.path.join(plot_dir, '103_RuleUseOverBlocks.png'))\n",
    "print(g)"
   ]
  },
  {
   "cell_type": "markdown",
   "metadata": {},
   "source": [
    "# RTs"
   ]
  },
  {
   "cell_type": "code",
   "execution_count": null,
   "metadata": {},
   "outputs": [],
   "source": [
    "block_dat = all_data.groupby(['sid', 'block', 'phase', 'trial_type']).aggregate('mean').reset_index()\n",
    "\n",
    "g = (gg.ggplot(block_dat, gg.aes('block', 'rt', color='phase'))\n",
    "     + gg.stat_summary()\n",
    "     + gg.stat_summary(geom='line')\n",
    "     + gg.facet_grid(' ~ trial_type')\n",
    "    )\n",
    "print(g)\n",
    "g.save(os.path.join(plot_dir, '103_RtOverBlock.png'))"
   ]
  },
  {
   "cell_type": "code",
   "execution_count": null,
   "metadata": {},
   "outputs": [],
   "source": [
    "trial_dat = all_data.groupby(['sid', 'trial', 'phase', 'trial_type']).aggregate('mean').reset_index()\n",
    "\n",
    "g += gg.aes(x='trial')\n",
    "g.data = trial_dat\n",
    "print(g)\n",
    "g.save(os.path.join(plot_dir, '103_RtOverTrial.png'))"
   ]
  },
  {
   "cell_type": "code",
   "execution_count": null,
   "metadata": {},
   "outputs": [],
   "source": [
    "def get_diff_dat(dat, col):\n",
    "\n",
    "    learn_dat = dat.loc[dat['trial_type'] == 'learning']\n",
    "    trans_dat = dat.loc[dat['trial_type'] == 'transfer']\n",
    "\n",
    "    cols = [col, 'sid', 'phase', 'rt']\n",
    "    diff_dat = pd.merge(learn_dat[cols], trans_dat[cols], on=cols[:-1], suffixes=['_learn', '_trans'])\n",
    "    diff_dat['rt_trans_minus_learn'] = diff_dat['rt_trans'] - diff_dat['rt_learn']\n",
    "    \n",
    "    return diff_dat\n",
    "\n",
    "# Example use\n",
    "get_diff_dat(trial_dat, 'trial')"
   ]
  },
  {
   "cell_type": "code",
   "execution_count": null,
   "metadata": {},
   "outputs": [],
   "source": [
    "diff_dat_trial = get_diff_dat(trial_dat, 'trial')\n",
    "diff_dat_block = get_diff_dat(block_dat, 'block')\n",
    "\n",
    "g = (gg.ggplot(diff_dat_trial, gg.aes('trial', 'rt_trans_minus_learn', color='phase'))\n",
    "     + gg.stat_summary()\n",
    "     + gg.stat_summary(geom='line')\n",
    "     + gg.labs(y='Speed loss in transfer')\n",
    "    )\n",
    "print(g)\n",
    "g.save(os.path.join(plot_dir, '103_SpeedlossOverTrial.png'))"
   ]
  },
  {
   "cell_type": "code",
   "execution_count": null,
   "metadata": {},
   "outputs": [],
   "source": [
    "g.data = diff_dat_block\n",
    "g += gg.aes(x='block')\n",
    "print(g)\n",
    "g.save(os.path.join(plot_dir, '103_SpeedlossOverBlock.png'))"
   ]
  },
  {
   "cell_type": "code",
   "execution_count": null,
   "metadata": {},
   "outputs": [],
   "source": []
  }
 ],
 "metadata": {
  "kernelspec": {
   "display_name": "notebooks",
   "language": "python",
   "name": "notebooks"
  },
  "language_info": {
   "codemirror_mode": {
    "name": "ipython",
    "version": 3
   },
   "file_extension": ".py",
   "mimetype": "text/x-python",
   "name": "python",
   "nbconvert_exporter": "python",
   "pygments_lexer": "ipython3",
   "version": "3.8.5"
  }
 },
 "nbformat": 4,
 "nbformat_minor": 2
}
