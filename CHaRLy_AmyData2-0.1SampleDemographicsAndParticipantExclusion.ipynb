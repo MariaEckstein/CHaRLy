{
 "cells": [
  {
   "cell_type": "markdown",
   "metadata": {},
   "source": [
    "# Prep"
   ]
  },
  {
   "cell_type": "code",
   "execution_count": null,
   "metadata": {},
   "outputs": [],
   "source": [
    "import json\n",
    "import numpy as np\n",
    "import os\n",
    "import pandas as pd\n",
    "import plotnine as gg\n",
    "gg.theme_set(gg.theme_classic)\n",
    "default_figure_size = (6.4, 4.8)"
   ]
  },
  {
   "cell_type": "code",
   "execution_count": null,
   "metadata": {},
   "outputs": [],
   "source": [
    "# data_dir = 'C:/Users/maria/MEGAsync/Berkeley/CHaRLy/data/mTurk1'\n",
    "data_dir = 'C:/Users/maria/MEGAsync/Berkeley/CHaRLy/data/RPP34'\n",
    "plot_dir = data_dir + 'figures'\n",
    "if not os.path.exists(plot_dir):\n",
    "    os.makedirs(plot_dir)"
   ]
  },
  {
   "cell_type": "code",
   "execution_count": null,
   "metadata": {},
   "outputs": [],
   "source": [
    "all_data = pd.read_csv(os.path.join(data_dir, 'all_data_raw.csv'), index_col=0)\n",
    "all_data"
   ]
  },
  {
   "cell_type": "code",
   "execution_count": null,
   "metadata": {
    "scrolled": true
   },
   "outputs": [],
   "source": [
    "demographics = pd.read_csv(os.path.join(data_dir, 'Demographics.csv'), header=1)\n",
    "demographics = demographics.rename(columns={'id': 'sid'})\n",
    "demographics.sid = demographics.sid.astype('int')\n",
    "demographics"
   ]
  },
  {
   "cell_type": "code",
   "execution_count": null,
   "metadata": {
    "scrolled": true
   },
   "outputs": [],
   "source": [
    "# Subset participants of current dataset\n",
    "demo = demographics.loc[demographics['sid'].isin(np.unique(all_data['sid']))].reset_index(drop=True)\n",
    "demo"
   ]
  },
  {
   "cell_type": "code",
   "execution_count": null,
   "metadata": {},
   "outputs": [],
   "source": [
    "# Remove duplicate entries\n",
    "already_ids = []\n",
    "\n",
    "for i, sid in enumerate(demo['sid']):\n",
    "    if sid in already_ids:\n",
    "        print(\"Removing duplicate entry for participant {}.\".format(sid))\n",
    "        demo = demo.drop(i)\n",
    "    already_ids += [sid]\n",
    "demo = demo.reset_index(drop=True)\n",
    "demo.shape"
   ]
  },
  {
   "cell_type": "markdown",
   "metadata": {},
   "source": [
    "# Exclude Participants"
   ]
  },
  {
   "cell_type": "code",
   "execution_count": null,
   "metadata": {},
   "outputs": [],
   "source": [
    "min_points_chance_performer = 25\n",
    "max_missed_trials_inattentive = 40"
   ]
  },
  {
   "cell_type": "markdown",
   "metadata": {},
   "source": [
    "## Psychological disorder, head trauma"
   ]
  },
  {
   "cell_type": "code",
   "execution_count": null,
   "metadata": {},
   "outputs": [],
   "source": [
    "psych_sids = demo.loc[demo['mental/psychiatric illness diagnosis'] == 'Yes', 'sid'].values\n",
    "trauma_sids = demo.loc[demo['head trauma/neurological disorder'] == 'Yes', 'sid'].values\n",
    "\n",
    "psych_sids, trauma_sids"
   ]
  },
  {
   "cell_type": "markdown",
   "metadata": {},
   "source": [
    "## Bad performance"
   ]
  },
  {
   "cell_type": "code",
   "execution_count": null,
   "metadata": {
    "scrolled": true
   },
   "outputs": [],
   "source": [
    "# Add chance performer column to all_data\n",
    "id_cols = ['sid', 'phase', 'trial_type']\n",
    "chance_performers1 = all_data.groupby(id_cols).aggregate('mean')['points'].reset_index()\n",
    "chance_performers1 = chance_performers1.groupby(['sid']).aggregate('count')['phase'].reset_index()\n",
    "chance_performers1"
   ]
  },
  {
   "cell_type": "code",
   "execution_count": null,
   "metadata": {},
   "outputs": [],
   "source": [
    "chance_performers2 = all_data.groupby(id_cols).aggregate('mean').reset_index()[id_cols + ['acc']]\n",
    "chance_performers2['points'] = chance_performers2['acc'] * (np.max(all_data.trial_) + 1)\n",
    "chance_performers2"
   ]
  },
  {
   "cell_type": "code",
   "execution_count": null,
   "metadata": {},
   "outputs": [],
   "source": [
    "chance_performers = set(\n",
    "    list(chance_performers1.loc[chance_performers1['phase'] == 1, 'sid']) + \\\n",
    "    list(set(chance_performers2.loc[\n",
    "        (chance_performers2.trial_type == 'learning') & \n",
    "        (chance_performers2.points < min_points_chance_performer), 'sid']))\n",
    ")\n",
    "\n",
    "print(\"Chance performer ids: {}\".format(chance_performers))"
   ]
  },
  {
   "cell_type": "markdown",
   "metadata": {},
   "source": [
    "## Too many missed trials"
   ]
  },
  {
   "cell_type": "code",
   "execution_count": null,
   "metadata": {
    "scrolled": true
   },
   "outputs": [],
   "source": [
    "d = all_data.loc[np.isnan(all_data['key_press'])].groupby(['sid']).aggregate('sum').reset_index()[['sid', 'timeout']]\n",
    "\n",
    "inattentives = d.loc[d['timeout'] > max_missed_trials_inattentive].sid.values\n",
    "\n",
    "print(\"Inattentive participant ids: {}\".format(inattentives))"
   ]
  },
  {
   "cell_type": "code",
   "execution_count": null,
   "metadata": {},
   "outputs": [],
   "source": [
    "g = (gg.ggplot(d, gg.aes('timeout'))\n",
    " + gg.geom_histogram(position=gg.position_dodge(width=4))\n",
    " + gg.geom_vline(xintercept=max_missed_trials_inattentive, linetype='dotted', color='red')\n",
    ")\n",
    "g.save(os.path.join(plot_dir, '01_ChancePerformers.png'))\n",
    "print(g)"
   ]
  },
  {
   "cell_type": "markdown",
   "metadata": {},
   "source": [
    "## Save data"
   ]
  },
  {
   "cell_type": "code",
   "execution_count": null,
   "metadata": {},
   "outputs": [],
   "source": [
    "# Add columns to all_data\n",
    "all_data['chance_performer'] = all_data['sid'].isin(chance_performers)\n",
    "all_data['inattentives'] = all_data['sid'].isin(inattentives)\n",
    "all_data['psych_disorder'] = all_data['sid'].isin(psych_sids)\n",
    "all_data['head_trauma'] = all_data['sid'].isin(trauma_sids)\n",
    "\n",
    "# Save to disk\n",
    "all_data.to_csv(os.path.join(data_dir, 'all_data.csv'))"
   ]
  },
  {
   "cell_type": "markdown",
   "metadata": {},
   "source": [
    "# Demographics"
   ]
  },
  {
   "cell_type": "code",
   "execution_count": null,
   "metadata": {},
   "outputs": [],
   "source": [
    "print('Number of Females: {}; Males: {}; Decline to answer: {}'.format(\n",
    "    np.sum(demo['sex'] == \"Female\"), np.sum(demo['sex'] == \"Male\"), np.sum(demo['sex'] == \"Decline to answer\")\n",
    "))"
   ]
  },
  {
   "cell_type": "code",
   "execution_count": null,
   "metadata": {},
   "outputs": [],
   "source": [
    "demo['age_years_months'] = demo['age (years)'] + demo['age (months)'] / 12\n",
    "\n",
    "print('Mean age: {} (std: {})'.format(\n",
    "    np.mean(demo['age_years_months']), np.std(demo['age_years_months'])\n",
    "))\n",
    "\n",
    "g = (gg.ggplot(demo, gg.aes('age_years_months'))\n",
    "     + gg.geom_histogram()\n",
    "    )\n",
    "g.save(os.path.join(plot_dir, '01_ageHistogram.png'))\n",
    "print(g)"
   ]
  },
  {
   "cell_type": "code",
   "execution_count": null,
   "metadata": {},
   "outputs": [],
   "source": []
  }
 ],
 "metadata": {
  "kernelspec": {
   "display_name": "notebooks",
   "language": "python",
   "name": "notebooks"
  },
  "language_info": {
   "codemirror_mode": {
    "name": "ipython",
    "version": 3
   },
   "file_extension": ".py",
   "mimetype": "text/x-python",
   "name": "python",
   "nbconvert_exporter": "python",
   "pygments_lexer": "ipython3",
   "version": "3.8.5"
  }
 },
 "nbformat": 4,
 "nbformat_minor": 4
}
