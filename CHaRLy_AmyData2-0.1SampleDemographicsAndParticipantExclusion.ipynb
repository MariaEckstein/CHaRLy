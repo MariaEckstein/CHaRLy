{
 "cells": [
  {
   "cell_type": "markdown",
   "metadata": {},
   "source": [
    "# Prep"
   ]
  },
  {
   "cell_type": "code",
   "execution_count": null,
   "metadata": {},
   "outputs": [],
   "source": [
    "import json\n",
    "import numpy as np\n",
    "import os\n",
    "import pandas as pd\n",
    "import plotnine as gg\n",
    "gg.theme_set(gg.theme_classic)\n",
    "default_figure_size = (6.4, 4.8)"
   ]
  },
  {
   "cell_type": "code",
   "execution_count": null,
   "metadata": {},
   "outputs": [],
   "source": [
    "# data_dir = 'C:/Users/maria/MEGAsync/Berkeley/CHaRLy/data/mTurk1'\n",
    "data_dir = 'C:/Users/maria/MEGAsync/Berkeley/CHaRLy/data/RPP34'\n",
    "plot_dir = data_dir + 'figures'\n",
    "if not os.path.exists(plot_dir):\n",
    "    os.makedirs(plot_dir)"
   ]
  },
  {
   "cell_type": "markdown",
   "metadata": {},
   "source": [
    "## Get all_data"
   ]
  },
  {
   "cell_type": "code",
   "execution_count": null,
   "metadata": {},
   "outputs": [],
   "source": [
    "all_data = pd.read_csv(os.path.join(data_dir, 'all_data_raw.csv'), index_col=0)\n",
    "all_data"
   ]
  },
  {
   "cell_type": "markdown",
   "metadata": {},
   "source": [
    "## Get demographics questionnaire"
   ]
  },
  {
   "cell_type": "code",
   "execution_count": null,
   "metadata": {
    "scrolled": true
   },
   "outputs": [],
   "source": [
    "demographics = pd.read_csv(os.path.join(data_dir, 'Demographics.csv'), header=1)\n",
    "demographics = demographics.rename(columns={'id': 'sid'})\n",
    "demographics.sid = demographics.sid.astype('int')\n",
    "demographics"
   ]
  },
  {
   "cell_type": "code",
   "execution_count": null,
   "metadata": {
    "scrolled": true
   },
   "outputs": [],
   "source": [
    "# Subset participants of current dataset\n",
    "demo = demographics.loc[demographics['sid'].isin(np.unique(all_data['sid']))].reset_index(drop=True)\n",
    "demo"
   ]
  },
  {
   "cell_type": "code",
   "execution_count": null,
   "metadata": {},
   "outputs": [],
   "source": [
    "# Remove duplicate entries\n",
    "already_ids = []\n",
    "\n",
    "for i, sid in enumerate(demo['sid']):\n",
    "    if sid in already_ids:\n",
    "        print(\"Removing duplicate entry for participant {}.\".format(sid))\n",
    "        demo = demo.drop(i)\n",
    "    already_ids += [sid]\n",
    "demo = demo.reset_index(drop=True)\n",
    "demo.shape"
   ]
  },
  {
   "cell_type": "markdown",
   "metadata": {},
   "source": [
    "## Get strategy questionnaire"
   ]
  },
  {
   "cell_type": "code",
   "execution_count": null,
   "metadata": {
    "scrolled": true
   },
   "outputs": [],
   "source": [
    "strategies = pd.read_csv(os.path.join(data_dir, 'StrategyQuestionnaire.csv'), header=1)\n",
    "strategies = strategies[1:]  # Remove first row with \"ImportId\":\"startDate\",\"timeZone\":\"Ameri, ...\n",
    "strategies = strategies.rename(columns={'id': 'sid'})\n",
    "strategies.sid = strategies.sid.astype('int')\n",
    "strategies"
   ]
  },
  {
   "cell_type": "code",
   "execution_count": null,
   "metadata": {
    "scrolled": true
   },
   "outputs": [],
   "source": [
    "# Subset participants of current dataset\n",
    "strat = strategies.loc[strategies['sid'].isin(np.unique(all_data['sid']))].reset_index(drop=True)\n",
    "strat"
   ]
  },
  {
   "cell_type": "code",
   "execution_count": null,
   "metadata": {},
   "outputs": [],
   "source": [
    "strat.columns"
   ]
  },
  {
   "cell_type": "code",
   "execution_count": null,
   "metadata": {
    "scrolled": true
   },
   "outputs": [],
   "source": [
    "pen_paper_q = 'Did you use pen and paper or any other external device (e.g., cell phone) to help in this task? E.g., some people write down keys to help them memorize and perform better.'\n",
    "yes_ans = 'Yes, I used an external device to help (pen & paper, cell phone, etc.).'\n",
    "no_ans = 'No, I did not use any external device to help with the task.'\n",
    "\n",
    "pen_paper_sids = strat.loc[strat[pen_paper_q] == yes_ans, 'sid'].values\n",
    "pen_paper_sids"
   ]
  },
  {
   "cell_type": "code",
   "execution_count": null,
   "metadata": {},
   "outputs": [],
   "source": [
    "pen_paper_q2 = 'How did you use the device? Describe your strategy.'\n",
    "for i, sid in enumerate(pen_paper_sids):\n",
    "    print(sid, strat.loc[strat[pen_paper_q] == yes_ans, pen_paper_q2].reset_index(drop=True)[i])"
   ]
  },
  {
   "cell_type": "markdown",
   "metadata": {},
   "source": [
    "# Exclude Participants"
   ]
  },
  {
   "cell_type": "code",
   "execution_count": null,
   "metadata": {},
   "outputs": [],
   "source": [
    "min_points_chance_performer = 25\n",
    "max_missed_trials_inattentive = 40"
   ]
  },
  {
   "cell_type": "markdown",
   "metadata": {},
   "source": [
    "## Psychological disorder, head trauma"
   ]
  },
  {
   "cell_type": "code",
   "execution_count": null,
   "metadata": {},
   "outputs": [],
   "source": [
    "psych_sids = demo.loc[demo['mental/psychiatric illness diagnosis'] == 'Yes', 'sid'].values\n",
    "trauma_sids = demo.loc[demo['head trauma/neurological disorder'] == 'Yes', 'sid'].values\n",
    "\n",
    "psych_sids, trauma_sids"
   ]
  },
  {
   "cell_type": "markdown",
   "metadata": {},
   "source": [
    "## Bad performance"
   ]
  },
  {
   "cell_type": "code",
   "execution_count": null,
   "metadata": {
    "scrolled": true
   },
   "outputs": [],
   "source": [
    "# Add chance performer column to all_data\n",
    "id_cols = ['sid', 'phase', 'trial_type']\n",
    "chance_performers1 = all_data.groupby(id_cols).aggregate('mean')['points'].reset_index()\n",
    "chance_performers1 = chance_performers1.groupby(['sid']).aggregate('count')['phase'].reset_index()\n",
    "chance_performers1"
   ]
  },
  {
   "cell_type": "code",
   "execution_count": null,
   "metadata": {},
   "outputs": [],
   "source": [
    "chance_performers2 = all_data.groupby(id_cols).aggregate('mean').reset_index()[id_cols + ['acc']]\n",
    "chance_performers2['points'] = chance_performers2['acc'] * (np.max(all_data.trial_) + 1)\n",
    "chance_performers2"
   ]
  },
  {
   "cell_type": "code",
   "execution_count": null,
   "metadata": {},
   "outputs": [],
   "source": [
    "chance_performers = set(\n",
    "    list(chance_performers1.loc[chance_performers1['phase'] == 1, 'sid']) + \\\n",
    "    list(set(chance_performers2.loc[\n",
    "        (chance_performers2.trial_type == 'learning') & \n",
    "        (chance_performers2.points < min_points_chance_performer), 'sid']))\n",
    ")\n",
    "\n",
    "print(\"Chance performer ids: {}\".format(chance_performers))"
   ]
  },
  {
   "cell_type": "markdown",
   "metadata": {},
   "source": [
    "## Too many missed trials"
   ]
  },
  {
   "cell_type": "code",
   "execution_count": null,
   "metadata": {
    "scrolled": true
   },
   "outputs": [],
   "source": [
    "d = all_data.loc[np.isnan(all_data['key_press'])].groupby(['sid']).aggregate('sum').reset_index()[['sid', 'timeout']]\n",
    "\n",
    "inattentives = d.loc[d['timeout'] > max_missed_trials_inattentive].sid.values\n",
    "\n",
    "print(\"Inattentive participant ids: {}\".format(inattentives))"
   ]
  },
  {
   "cell_type": "code",
   "execution_count": null,
   "metadata": {},
   "outputs": [],
   "source": [
    "g = (gg.ggplot(d, gg.aes('timeout'))\n",
    " + gg.geom_histogram(position=gg.position_dodge(width=4))\n",
    " + gg.geom_vline(xintercept=max_missed_trials_inattentive, linetype='dotted', color='red')\n",
    ")\n",
    "g.save(os.path.join(plot_dir, '01_ChancePerformers.png'))\n",
    "print(g)"
   ]
  },
  {
   "cell_type": "code",
   "execution_count": null,
   "metadata": {
    "scrolled": false
   },
   "outputs": [],
   "source": [
    "num_dat = all_data.loc[all_data['phase'] == 'low'].groupby(['sid', 'phaseNum']).aggregate('mean').reset_index()[['sid', 'phaseNum']]\n",
    "\n",
    "print('Before Excluding: High transfer first: n={}; low transfer first: n={}'.format(\n",
    "    np.sum(num_dat['phaseNum'] == 0), np.sum(num_dat['phaseNum'] == 1)))"
   ]
  },
  {
   "cell_type": "markdown",
   "metadata": {},
   "source": [
    "# Remove participants"
   ]
  },
  {
   "cell_type": "code",
   "execution_count": null,
   "metadata": {},
   "outputs": [],
   "source": [
    "all_data['chance_performer'] = all_data['sid'].isin(chance_performers)\n",
    "all_data['inattentives'] = all_data['sid'].isin(inattentives)\n",
    "all_data['psych_disorder'] = all_data['sid'].isin(psych_sids)\n",
    "all_data['head_trauma'] = all_data['sid'].isin(trauma_sids)\n",
    "all_data['pen_paper'] = all_data['sid'].isin(pen_paper_sids)"
   ]
  },
  {
   "cell_type": "code",
   "execution_count": null,
   "metadata": {},
   "outputs": [],
   "source": [
    "all_data = all_data.loc[\n",
    "    np.invert(all_data['inattentives'] | all_data['psych_disorder'] | all_data['head_trauma'] | all_data['pen_paper'])\n",
    "]\n",
    "all_data"
   ]
  },
  {
   "cell_type": "markdown",
   "metadata": {},
   "source": [
    "# Demographics"
   ]
  },
  {
   "cell_type": "code",
   "execution_count": null,
   "metadata": {},
   "outputs": [],
   "source": [
    "print('Number of Females: {}; Males: {}; Decline to answer: {}'.format(\n",
    "    np.sum(demo['sex'] == \"Female\"), np.sum(demo['sex'] == \"Male\"), np.sum(demo['sex'] == \"Decline to answer\")\n",
    "))"
   ]
  },
  {
   "cell_type": "code",
   "execution_count": null,
   "metadata": {
    "scrolled": false
   },
   "outputs": [],
   "source": [
    "num_dat = all_data.loc[all_data['phase'] == 'low'].groupby(['sid', 'phaseNum']).aggregate('mean').reset_index()[['sid', 'phaseNum']]\n",
    "\n",
    "print('After Excluding: High transfer first: n={}; low transfer first: n={}'.format(\n",
    "    np.sum(num_dat['phaseNum'] == 0), np.sum(num_dat['phaseNum'] == 1)))"
   ]
  },
  {
   "cell_type": "markdown",
   "metadata": {},
   "source": [
    "## Save data"
   ]
  },
  {
   "cell_type": "code",
   "execution_count": null,
   "metadata": {},
   "outputs": [],
   "source": [
    "all_data.to_csv(os.path.join(data_dir, 'all_data.csv'))"
   ]
  }
 ],
 "metadata": {
  "kernelspec": {
   "display_name": "notebooks",
   "language": "python",
   "name": "notebooks"
  },
  "language_info": {
   "codemirror_mode": {
    "name": "ipython",
    "version": 3
   },
   "file_extension": ".py",
   "mimetype": "text/x-python",
   "name": "python",
   "nbconvert_exporter": "python",
   "pygments_lexer": "ipython3",
   "version": "3.8.5"
  }
 },
 "nbformat": 4,
 "nbformat_minor": 4
}
