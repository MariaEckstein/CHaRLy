{
 "cells": [
  {
   "cell_type": "markdown",
   "metadata": {},
   "source": [
    "# Imports etc."
   ]
  },
  {
   "cell_type": "code",
   "execution_count": null,
   "metadata": {},
   "outputs": [],
   "source": [
    "import json\n",
    "import numpy as np\n",
    "import os\n",
    "import pandas as pd\n",
    "import plotnine as gg\n",
    "gg.theme_set(gg.theme_classic)\n",
    "default_figure_size = (6.4, 4.8)"
   ]
  },
  {
   "cell_type": "code",
   "execution_count": null,
   "metadata": {},
   "outputs": [],
   "source": [
    "# data_dir = 'C:/Users/maria/MEGAsync/Berkeley/CHaRLy/data/mTurk1'\n",
    "data_dir = 'C:/Users/maria/MEGAsync/Berkeley/CHaRLy/data/RPP34'\n",
    "plot_dir = data_dir + 'figures'\n",
    "if not os.path.exists(plot_dir):\n",
    "    os.makedirs(plot_dir)"
   ]
  },
  {
   "cell_type": "markdown",
   "metadata": {},
   "source": [
    "## Get all_data"
   ]
  },
  {
   "cell_type": "code",
   "execution_count": null,
   "metadata": {
    "scrolled": true
   },
   "outputs": [],
   "source": [
    "rule_data = pd.read_csv(os.path.join(data_dir, 'rule_data.csv'), index_col=0)\n",
    "rule_data.loc[rule_data.phase == 'high'][:30]"
   ]
  },
  {
   "cell_type": "code",
   "execution_count": null,
   "metadata": {},
   "outputs": [],
   "source": [
    "all_data = pd.read_csv(os.path.join(data_dir, 'all_data.csv'), index_col=0)\n",
    "all_data = all_data.loc[np.invert(all_data['inattentives'])]\n",
    "all_data"
   ]
  },
  {
   "cell_type": "markdown",
   "metadata": {},
   "source": [
    "# Results"
   ]
  },
  {
   "cell_type": "markdown",
   "metadata": {},
   "source": [
    "## Learning curves"
   ]
  },
  {
   "cell_type": "markdown",
   "metadata": {},
   "source": [
    "### Individual participants"
   ]
  },
  {
   "cell_type": "code",
   "execution_count": null,
   "metadata": {
    "scrolled": false
   },
   "outputs": [],
   "source": [
    "# Learning curves, averaging over goal stars \n",
    "def plot_LearnCurves_Trial(dat, suf=''):\n",
    "    \n",
    "    g = (gg.ggplot(dat, gg.aes('trial_', 'acc'))\n",
    "         + gg.stat_summary(fun_y=np.mean, geom='point')\n",
    "         + gg.stat_summary(fun_y=np.mean, geom='line')\n",
    "         + gg.facet_grid('phase + phaseNum ~ trial_type')\n",
    "        )\n",
    "    g.save(os.path.join(plot_dir, '2_LearnCurves_Trial{}.png'.format(suf)))\n",
    "    \n",
    "    return g\n",
    "\n",
    "# Use\n",
    "learn_curves_all = plot_LearnCurves_Trial(all_data, '_all')\n",
    "learn_curves"
   ]
  },
  {
   "cell_type": "code",
   "execution_count": null,
   "metadata": {},
   "outputs": [],
   "source": [
    "# Learning curves, trial-by-trial\n",
    "learn_curves2 = learn_curves + gg.aes(x='trial', color='factor(sid)')\n",
    "learn_curves2.save(os.path.join(plot_dir, '2_LearnCurves_Block.png'))\n",
    "print(learn_curves2)\n",
    "\n",
    "learn_curves_all2 = learn_curves_all + gg.aes(x='trial', color='factor(sid)', linetype='chance_performer')\n",
    "learn_curves_all2.save(os.path.join(plot_dir, '2_LearnCurves_Block_all.png'))"
   ]
  },
  {
   "cell_type": "code",
   "execution_count": null,
   "metadata": {},
   "outputs": [],
   "source": [
    "# Learning curves, trial-by-trial\n",
    "learn_curves3 = learn_curves + gg.aes(x='trial', color='factor(goal_star)')\n",
    "learn_curves3.save(os.path.join(plot_dir, '2_LearnCurves_Star.png'))\n",
    "print(learn_curves3)\n",
    "\n",
    "learn_curves_all3 = learn_curves_all + gg.aes(x='trial', color='factor(goal_star)')\n",
    "learn_curves_all3.save(os.path.join(plot_dir, '2_LearnCurves_Star_all.png'))"
   ]
  },
  {
   "cell_type": "code",
   "execution_count": null,
   "metadata": {},
   "outputs": [],
   "source": [
    "learn_curves_all4 = learn_curves_all + gg.aes(x='star_iteration')\n",
    "learn_curves_all4"
   ]
  },
  {
   "cell_type": "code",
   "execution_count": null,
   "metadata": {},
   "outputs": [],
   "source": [
    "learn_curves_all5 = learn_curves_all + gg.aes(x='block')\n",
    "learn_curves_all5"
   ]
  },
  {
   "cell_type": "markdown",
   "metadata": {},
   "source": [
    "### Population average"
   ]
  },
  {
   "cell_type": "code",
   "execution_count": null,
   "metadata": {},
   "outputs": [],
   "source": [
    "id_cols = ['sid', 'trial_type', 'phase', 'phaseNum', 'trial']\n",
    "learn_curves_sum = all_data.groupby(id_cols).aggregate('mean').reset_index()[id_cols + ['acc']]\n",
    "learn_curves_sum"
   ]
  },
  {
   "cell_type": "code",
   "execution_count": null,
   "metadata": {
    "scrolled": false
   },
   "outputs": [],
   "source": [
    "g = (gg.ggplot(learn_curves_sum, gg.aes('trial', 'acc', color='phase'))\n",
    "     + gg.stat_summary(position=gg.position_dodge(width=0.1))\n",
    "     + gg.stat_summary(position=gg.position_dodge(width=0.1), geom='line')\n",
    "     + gg.facet_grid('phaseNum ~ trial_type')\n",
    "    )\n",
    "print(g)\n",
    "g.save(os.path.join(plot_dir, '2_LearnCurves_BlockAvg.png'))"
   ]
  },
  {
   "cell_type": "markdown",
   "metadata": {},
   "source": [
    "## Perseverance: Following old rules after transfer"
   ]
  },
  {
   "cell_type": "code",
   "execution_count": null,
   "metadata": {},
   "outputs": [],
   "source": [
    "def plot_PerseveraceLowRules(dat, suf=''):\n",
    "    \n",
    "    g = (gg.ggplot(dat, gg.aes('trial', 'bool_middle_item_lowRulesLearnOnly', color='factor(sid)', linetype='chance_performer'))\n",
    "         + gg.stat_summary(fun_y=np.mean, geom='point')\n",
    "         + gg.stat_summary(fun_y=np.mean, geom='line')\n",
    "         + gg.facet_grid('phase + phaseNum ~ trial_type')\n",
    "        )\n",
    "    g.save(os.path.join(plot_dir, '5_PerseveranceLowRules{}.png'.format(suf)))\n",
    "    \n",
    "    return g\n",
    "\n",
    "# Use\n",
    "sub_dat = all_data.loc[all_data.subtrial.isin([1, 3])]\n",
    "pers_all = plot_PerseveraceLowRules(sub_dat, '_all')\n",
    "pers = plot_PerseveraceLowRules(sub_dat.loc[np.invert(sub_dat['chance_performer'])])\n",
    "pers"
   ]
  },
  {
   "cell_type": "code",
   "execution_count": null,
   "metadata": {},
   "outputs": [],
   "source": [
    "pers_all2 = pers_all + gg.aes(y='bool_unlocked_star_highRulesLearnOnly')\n",
    "pers_all2.data = pers_all.data.loc[pers_all.data.subtrial == 3]\n",
    "pers_all2.save(os.path.join(plot_dir, '5_PerseveranceHighRules_all.png'))\n",
    "\n",
    "pers2 = pers + gg.aes(y='bool_unlocked_star_highRulesLearnOnly')\n",
    "pers2.data = pers.data.loc[pers.data.subtrial == 3]\n",
    "pers2.save(os.path.join(plot_dir, '5_PerseveranceHighRules.png'))\n",
    "print(pers2)"
   ]
  },
  {
   "cell_type": "markdown",
   "metadata": {},
   "source": [
    "## Analyzing performance by level"
   ]
  },
  {
   "cell_type": "code",
   "execution_count": null,
   "metadata": {},
   "outputs": [],
   "source": [
    "pers_all3 = pers_all + gg.aes(y='bool_middle_item_lowRulesTransferOnly')\n",
    "pers_all3.save(os.path.join(plot_dir, '6_DetailsLowTransferRules_all.png'))\n",
    "\n",
    "pers3 = pers + gg.aes(y='bool_middle_item_lowRulesTransferOnly')\n",
    "pers3.save(os.path.join(plot_dir, '6_DetailsLowTransferRules.png'))\n",
    "pers3"
   ]
  },
  {
   "cell_type": "code",
   "execution_count": null,
   "metadata": {},
   "outputs": [],
   "source": [
    "pers_all4 = pers_all2 + gg.aes(y='bool_unlocked_star_highRulesTransferOnly')\n",
    "pers_all4.save(os.path.join(plot_dir, '6_DetailsHighTransferRules_all.png'))\n",
    "\n",
    "pers4 = pers2 + gg.aes(y='bool_unlocked_star_highRulesTransferOnly')\n",
    "pers4.save(os.path.join(plot_dir, '6_DetailsHighTransferRules.png'))\n",
    "pers4"
   ]
  },
  {
   "cell_type": "code",
   "execution_count": null,
   "metadata": {},
   "outputs": [],
   "source": [
    "pers_all6 = pers_all + gg.aes(y='bool_middle_item_lowRulesBoth')\n",
    "pers_all6.save(os.path.join(plot_dir, '6_DetailsLowBothRules_all.png'))\n",
    "\n",
    "pers6 = pers + gg.aes(y='bool_middle_item_lowRulesBoth')\n",
    "pers6.save(os.path.join(plot_dir, '6_DetailsLowBothRules.png'))\n",
    "pers6"
   ]
  },
  {
   "cell_type": "code",
   "execution_count": null,
   "metadata": {},
   "outputs": [],
   "source": [
    "pers_all5 = pers_all2 + gg.aes(y='bool_unlocked_star_highRulesBoth')\n",
    "pers_all5.save(os.path.join(plot_dir, '6_DetailsHighBothRules_all.png'))\n",
    "\n",
    "pers5 = pers2 + gg.aes(y='bool_unlocked_star_highRulesBoth')\n",
    "pers5.save(os.path.join(plot_dir, '6_DetailsHighBothRules.png'))\n",
    "pers5"
   ]
  },
  {
   "cell_type": "markdown",
   "metadata": {},
   "source": [
    "## Time frame for learning low / high rules"
   ]
  },
  {
   "cell_type": "code",
   "execution_count": null,
   "metadata": {
    "scrolled": false
   },
   "outputs": [],
   "source": [
    "# How fast are low rules learnt? How many middle-items are produced through learning?\n",
    "def plot_TimeframeLearnRules(dat, suf):\n",
    "    \n",
    "    # Get data\n",
    "    if 'Low' in suf:\n",
    "        sub_dat = dat.loc[dat['subtrial'].isin([1, 3])]  # Select subtrials 1 and 3, in which middle-items *can* appear\n",
    "        y = 'bool_middle_item_lowRulesLearnOnly'\n",
    "        if 'Trans' in suf:\n",
    "            y = 'bool_middle_item_lowRulesTransferOnly'\n",
    "\n",
    "    elif 'High' in suf:\n",
    "        sub_dat = all_data.loc[all_data['subtrial'] == 3]  # Select subtrial 3, in which stars *can* appear\n",
    "        y = 'bool_unlocked_star_highRulesLearnOnly'\n",
    "        if 'Trans' in suf:\n",
    "            y = 'bool_unlocked_star_highRulesTransferOnly'\n",
    "    else:\n",
    "        raise(ValueError, 'suf must contain either \"Low\", or \"High\".')\n",
    "\n",
    "    # Plot\n",
    "    g = (gg.ggplot(sub_dat, gg.aes('trial_', y, color='factor(subtrial)'))\n",
    "         + gg.stat_summary(fun_y=np.mean, geom='point')\n",
    "         + gg.stat_summary(fun_y=np.mean, geom='line')\n",
    "         + gg.facet_grid('phase ~ trial_type')\n",
    "        )\n",
    "    g.save(os.path.join(plot_dir, '7_TimeFrameLearnRules{}'.format(suf)))\n",
    "    \n",
    "    return g\n",
    "\n",
    "# Use\n",
    "plot_TimeframeLearnRules(all_data, 'LowLearn_all')\n",
    "plot_TimeframeLearnRules(all_data, 'LowTrans_all')"
   ]
  },
  {
   "cell_type": "code",
   "execution_count": null,
   "metadata": {
    "scrolled": false
   },
   "outputs": [],
   "source": [
    "plot_TimeframeLearnRules(all_data, 'HighLearn_all')\n",
    "plot_TimeframeLearnRules(all_data, 'HighTrans_all')"
   ]
  },
  {
   "cell_type": "markdown",
   "metadata": {},
   "source": [
    "## Overall rules in training / transfer high / low"
   ]
  },
  {
   "cell_type": "code",
   "execution_count": null,
   "metadata": {
    "scrolled": false
   },
   "outputs": [],
   "source": [
    "# # Hypothesis: Previous rules (high-level or low-level) persist significantly after they stop being valuable\n",
    "# # (compared to baseline of not-yet-learned rules). There is a difference between high- and low-level (especially\n",
    "# # early-on, i.e., in the first few blocks).\n",
    "# g = (gg.ggplot(item_sum_dat, gg.aes('trial_type', color='factor(sid)', group='factor(sid)'))\n",
    "#      + gg.geom_point()\n",
    "#      + gg.geom_line()\n",
    "#      + gg.facet_grid('phaseNum ~ phase')\n",
    "#     )\n",
    "\n",
    "# for col in goal_cols:\n",
    "#     name = col.split('_')[-1]\n",
    "#     g_col = g + gg.aes(y=col)\n",
    "#     g_col.save(os.path.join(plot_dir, '8_Performance{}.png'.format(name)))\n",
    "#     print(g_col)"
   ]
  },
  {
   "cell_type": "markdown",
   "metadata": {},
   "source": [
    "## Forgetting of old rules and learning of new rules during transfer"
   ]
  },
  {
   "cell_type": "code",
   "execution_count": null,
   "metadata": {
    "scrolled": true
   },
   "outputs": [],
   "source": [
    "id_cols = ['sid', 'phase', 'trial_type', 'block']\n",
    "sum_rules = all_data.loc[all_data.subtrial.isin([1, 3]), id_cols + goal_cols].groupby(id_cols).aggregate('mean').reset_index()\n",
    "sum_rules = sum_rules.melt(id_vars=id_cols, var_name='rule', value_name='acc')\n",
    "sum_rules.loc[sum_rules.rule.isin([c for c in set(sum_rules.rule) if 'high' in c]), 'acc'] *= 2\n",
    "sum_rules"
   ]
  },
  {
   "cell_type": "code",
   "execution_count": null,
   "metadata": {
    "scrolled": false
   },
   "outputs": [],
   "source": [
    "# Hypothesis: middle-layer items are easier (faster) to learn, but harder (slower) to unlearn than high-level stars\n",
    "# Reason: There is a difference in the level of abstraction. The deeper down, the harder to unlearn. Maybe only\n",
    "# the top-level is still malleable.\n",
    "g = (gg.ggplot(gg.aes('block', 'acc', color='rule'))\n",
    "     + gg.stat_summary(position=gg.position_dodge(width=0.1))\n",
    "     + gg.stat_summary(position=gg.position_dodge(width=0.1), geom='line')\n",
    "     + gg.coord_cartesian(ylim=(0, 1))\n",
    "     + gg.facet_grid('phaseNum ~ phase + trial_type')\n",
    "    )\n",
    "\n",
    "g_high = g\n",
    "g_high.data = sum_rules.loc[\n",
    "    sum_rules.rule.isin([c for c in set(sum_rules.rule) if 'high' in c]) &\n",
    "    (sum_rules.phase == 'high') #& (sum_rules.trial_type == 'transfer')\n",
    "]\n",
    "g_high.save(os.path.join(plot_dir, '10_ForgettingRelearningHighRules.png'))\n",
    "print(g_high)\n",
    "\n",
    "g_low = g\n",
    "g_low.data = sum_rules.loc[\n",
    "    sum_rules.rule.isin([c for c in set(sum_rules.rule) if 'low' in c]) &\n",
    "    (sum_rules.phase == 'low') #& (sum_rules.trial_type == 'transfer')\n",
    "]\n",
    "g_low.save(os.path.join(plot_dir, '10_ForgettingRelearninglowRules.png'))\n",
    "print(g_low)"
   ]
  }
 ],
 "metadata": {
  "kernelspec": {
   "display_name": "notebooks",
   "language": "python",
   "name": "notebooks"
  },
  "language_info": {
   "codemirror_mode": {
    "name": "ipython",
    "version": 3
   },
   "file_extension": ".py",
   "mimetype": "text/x-python",
   "name": "python",
   "nbconvert_exporter": "python",
   "pygments_lexer": "ipython3",
   "version": "3.8.5"
  }
 },
 "nbformat": 4,
 "nbformat_minor": 2
}
