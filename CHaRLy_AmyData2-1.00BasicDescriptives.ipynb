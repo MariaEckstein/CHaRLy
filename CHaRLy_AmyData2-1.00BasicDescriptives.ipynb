{
 "cells": [
  {
   "cell_type": "markdown",
   "metadata": {},
   "source": [
    "# Imports etc."
   ]
  },
  {
   "cell_type": "code",
   "execution_count": null,
   "metadata": {},
   "outputs": [],
   "source": [
    "import json\n",
    "import numpy as np\n",
    "import os\n",
    "import pandas as pd\n",
    "import plotnine as gg\n",
    "gg.theme_set(gg.theme_classic)\n",
    "default_figure_size = (6.4, 4.8)"
   ]
  },
  {
   "cell_type": "code",
   "execution_count": null,
   "metadata": {},
   "outputs": [],
   "source": [
    "# data_dir = 'C:/Users/maria/MEGAsync/Berkeley/CHaRLy/data/mTurk1'\n",
    "data_dir = 'C:/Users/maria/MEGAsync/Berkeley/CHaRLy/data/RPP34'\n",
    "plot_dir = data_dir + 'figures'\n",
    "if not os.path.exists(plot_dir):\n",
    "    os.makedirs(plot_dir)"
   ]
  },
  {
   "cell_type": "markdown",
   "metadata": {},
   "source": [
    "## Get all_data"
   ]
  },
  {
   "cell_type": "code",
   "execution_count": null,
   "metadata": {
    "scrolled": true
   },
   "outputs": [],
   "source": [
    "rule_data = pd.read_csv(os.path.join(data_dir, 'rule_data.csv'), index_col=0)\n",
    "rule_data.loc[rule_data.phase == 'high'][:30]"
   ]
  },
  {
   "cell_type": "code",
   "execution_count": null,
   "metadata": {},
   "outputs": [],
   "source": [
    "all_data = pd.read_csv(os.path.join(data_dir, 'all_data.csv'), index_col=0)\n",
    "all_data = all_data.loc[np.invert(all_data['inattentives'])]\n",
    "all_data"
   ]
  },
  {
   "cell_type": "markdown",
   "metadata": {},
   "source": [
    "# Results"
   ]
  },
  {
   "cell_type": "markdown",
   "metadata": {},
   "source": [
    "## Data overview"
   ]
  },
  {
   "cell_type": "code",
   "execution_count": null,
   "metadata": {},
   "outputs": [],
   "source": [
    "interesting_cols = [\n",
    "#     'sid',\n",
    "    'trial_type', 'phase', 'block', 'trial', 'trial_', 'subtrial', 'points', 'rt', #'key_press',\n",
    "    'action_id', 'action_name', 'middle_item', 'middle_item_name', 'goal_star', 'goal_star_name', 'correct', 'unlocked_star',\n",
    "    'unlocked_star_name', 'timeout', 'star_iteration',\n",
    "#     'middle_item_lowTransferRules', 'middle_item_lowRules', 'bool_middle_item_lowRules',\n",
    "#     'unlocked_star_highTransferRules', 'unlocked_star_highRules', 'bool_unlocked_star_highRules',\n",
    "    'chance_performer',\n",
    "]"
   ]
  },
  {
   "cell_type": "code",
   "execution_count": null,
   "metadata": {
    "scrolled": true
   },
   "outputs": [],
   "source": [
    "id_cols = ['sid', 'trial_type', 'phase']\n",
    "all_data[interesting_cols + id_cols].groupby(id_cols[0]).mean()"
   ]
  },
  {
   "cell_type": "code",
   "execution_count": null,
   "metadata": {},
   "outputs": [],
   "source": [
    "all_data[interesting_cols].describe()"
   ]
  },
  {
   "cell_type": "code",
   "execution_count": null,
   "metadata": {
    "scrolled": true
   },
   "outputs": [],
   "source": [
    "all_data.loc[:30, interesting_cols]"
   ]
  },
  {
   "cell_type": "markdown",
   "metadata": {},
   "source": [
    "## Task Duration"
   ]
  },
  {
   "cell_type": "code",
   "execution_count": null,
   "metadata": {},
   "outputs": [],
   "source": [
    "dur_dat = all_data.groupby(['sid', 'chance_performer']).aggregate('mean').reset_index().reset_index()\n",
    "print(\"Number of participants: {}\".format(dur_dat.shape[0]))\n",
    "print(\"Mean duration: {} minutes (min: {}; max: {}; sd: {})\".format(\n",
    "    np.mean(dur_dat['duration']).round(), np.min(dur_dat['duration']).round(), np.max(dur_dat['duration']).round(), np.std(dur_dat['duration']).round(1))\n",
    "     )\n",
    "\n",
    "g = (gg.ggplot(dur_dat, gg.aes('index', 'duration', fill='factor(sid)', color='chance_performer'))\n",
    "     + gg.geom_hline(yintercept=np.mean(dur_dat['duration']), linetype='dotted')\n",
    "     + gg.scale_color_manual(values=('white', 'red'))\n",
    "     + gg.geom_bar(stat='identity')\n",
    "#      + gg.theme(legend_position='none')\n",
    "    )\n",
    "g.save(os.path.join(plot_dir, '0_TaskDuration_all.png'))\n",
    "print(g)"
   ]
  },
  {
   "cell_type": "markdown",
   "metadata": {},
   "source": [
    "## Raw button presses"
   ]
  },
  {
   "cell_type": "code",
   "execution_count": null,
   "metadata": {
    "scrolled": false
   },
   "outputs": [],
   "source": [
    "# Get data\n",
    "sub_dat = all_data.loc[\n",
    "    (all_data.phase == 'high') &\n",
    "    (all_data.trial_ < 40) #& np.invert(np.isnan(all_data.key_press))\n",
    "]\n",
    "sub_dat['shape'] = sub_dat['acc'].apply(lambda x: 0 if np.isnan(x) or x == 0 else 1)\n",
    "\n",
    "# Plot\n",
    "gg.options.figure_size = (20, 10)\n",
    "g = (gg.ggplot(sub_dat, gg.aes('subtrial', 'trial_', color='factor(key_press)', shape='factor(shape)'))\n",
    "     + gg.geom_point()\n",
    "     + gg.facet_grid('trial_type ~ sid', scales='free_x')\n",
    "    )\n",
    "g.save(os.path.join(plot_dir, '0_RawKeyPresses.png'))\n",
    "print(g)\n",
    "gg.options.figure_size = default_figure_size"
   ]
  },
  {
   "cell_type": "markdown",
   "metadata": {},
   "source": [
    "## Points won over time"
   ]
  },
  {
   "cell_type": "code",
   "execution_count": null,
   "metadata": {},
   "outputs": [],
   "source": [
    "def plot_PointsOverTrials(dat, suf=''):\n",
    "    \n",
    "    gg.options.figure_size = (8, 4)\n",
    "    g = (gg.ggplot(dat, gg.aes('trial_', 'points', color='factor(sid)', linetype='chance_performer'))\n",
    "         + gg.geom_line()\n",
    "         + gg.facet_grid('phase ~ phaseNum + trial_type')\n",
    "        )\n",
    "    g.save(os.path.join(plot_dir, '0_PointsOverTrials{}.png'.format(suf)))\n",
    "    gg.options.figure_size = default_figure_size\n",
    "\n",
    "    return g\n",
    "\n",
    "# Use\n",
    "# plot_PointsOverTrials(incl_data)\n",
    "plot_PointsOverTrials(all_data, '_all')"
   ]
  },
  {
   "cell_type": "markdown",
   "metadata": {},
   "source": [
    "## Performance for each star"
   ]
  },
  {
   "cell_type": "code",
   "execution_count": null,
   "metadata": {},
   "outputs": [],
   "source": [
    "def plot_PerformanceByStar(dat, suf=''):\n",
    "    \n",
    "    id_cols = ['sid', 'phase', 'phaseNum', 'trial_type', 'goal_star']\n",
    "    sum_dat = dat.groupby(id_cols).mean().reset_index()[id_cols + ['acc']]\n",
    "    \n",
    "    chance_perf = 1 / (4 * 3 * 2)\n",
    "    g = (gg.ggplot(sum_dat, gg.aes('goal_star', 'acc'))\n",
    "         + gg.stat_summary(geom='bar')\n",
    "         + gg.stat_summary()\n",
    "         + gg.geom_hline(yintercept=chance_perf, linetype='dotted')\n",
    "         + gg.geom_point(gg.aes(color='factor(sid)'), position='jitter')\n",
    "         + gg.facet_grid('phase + phaseNum ~ trial_type')\n",
    "        )\n",
    "    g.save(os.path.join(plot_dir, '3_PerformanceByStar{}.png'.format(suf)))\n",
    "    \n",
    "    return g\n",
    "\n",
    "# Use\n",
    "plot_PerformanceByStar(all_data, '_all')"
   ]
  }
 ],
 "metadata": {
  "kernelspec": {
   "display_name": "notebooks",
   "language": "python",
   "name": "notebooks"
  },
  "language_info": {
   "codemirror_mode": {
    "name": "ipython",
    "version": 3
   },
   "file_extension": ".py",
   "mimetype": "text/x-python",
   "name": "python",
   "nbconvert_exporter": "python",
   "pygments_lexer": "ipython3",
   "version": "3.8.5"
  }
 },
 "nbformat": 4,
 "nbformat_minor": 2
}
