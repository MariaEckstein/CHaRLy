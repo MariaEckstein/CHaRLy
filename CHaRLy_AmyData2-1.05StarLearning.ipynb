{
 "cells": [
  {
   "cell_type": "markdown",
   "metadata": {},
   "source": [
    "# Imports etc."
   ]
  },
  {
   "cell_type": "code",
   "execution_count": null,
   "metadata": {},
   "outputs": [],
   "source": [
    "import json\n",
    "import numpy as np\n",
    "import os\n",
    "import pandas as pd\n",
    "import plotnine as gg\n",
    "import statsmodels.formula.api as smf\n",
    "from Functions import *\n",
    "gg.theme_set(gg.theme_classic)"
   ]
  },
  {
   "cell_type": "code",
   "execution_count": null,
   "metadata": {},
   "outputs": [],
   "source": [
    "data_dir = 'C:/Users/maria/MEGAsync/Berkeley/CHaRLy/data/RPP34'\n",
    "plot_dir = data_dir + 'figures'\n",
    "if not os.path.exists(plot_dir):\n",
    "    os.makedirs(plot_dir)"
   ]
  },
  {
   "cell_type": "markdown",
   "metadata": {},
   "source": [
    "# Get data"
   ]
  },
  {
   "cell_type": "code",
   "execution_count": null,
   "metadata": {},
   "outputs": [],
   "source": [
    "all_data = pd.read_csv(os.path.join(data_dir, 'all_data.csv'), index_col=0)\n",
    "all_data['subtrial'] = all_data['subtrial'].astype(int)\n",
    "all_data"
   ]
  },
  {
   "cell_type": "code",
   "execution_count": null,
   "metadata": {},
   "outputs": [],
   "source": [
    "rule_data = pd.read_csv(os.path.join(data_dir, 'rule_data.csv'), index_col=0)\n",
    "rule_data.loc[(rule_data.phase == 'low') & (rule_data.sid == 13885)]"
   ]
  },
  {
   "cell_type": "code",
   "execution_count": null,
   "metadata": {},
   "outputs": [],
   "source": [
    "rule_data.loc[(rule_data.phase == 'low') & (rule_data.sid == 39508)]"
   ]
  },
  {
   "cell_type": "code",
   "execution_count": null,
   "metadata": {
    "scrolled": true
   },
   "outputs": [],
   "source": [
    "# REMEMBER! RULE_DATA REFERS TO ACTION_ID -> MIDDLE_ITEM_NAME; AND MIDDLE_ITEM_NAME -> UNLOCKED_STAR_NAME\n",
    "all_data.loc[\n",
    "    (all_data['sid'] == 39508) & (all_data['phase'] == 'low') & (all_data['trial_type'] == 'learning'),\n",
    "    ['sid', 'block', 'trial', 'subtrial', 'action_id', 'middle_item_name', 'unlocked_star_name']\n",
    "][228:260]"
   ]
  },
  {
   "cell_type": "markdown",
   "metadata": {},
   "source": [
    "# Results"
   ]
  },
  {
   "cell_type": "markdown",
   "metadata": {},
   "source": [
    "## First discovery of new star: based on known or unknown 2-key sequences?"
   ]
  },
  {
   "cell_type": "code",
   "execution_count": null,
   "metadata": {},
   "outputs": [],
   "source": [
    "# REMEMBER! RULE_DATA REFERS TO ACTION_ID -> MIDDLE_ITEM_NAME; AND MIDDLE_ITEM_NAME -> UNLOCKED_STAR_NAME\n",
    "all_data[['sid', 'phase', 'trial_type', 'trial', 'subtrial', 'acc', 'action_id', 'middle_item_name', 'unlocked_star_name']]"
   ]
  },
  {
   "cell_type": "code",
   "execution_count": null,
   "metadata": {},
   "outputs": [],
   "source": [
    "for item in range(4):\n",
    "    all_data['count_item{}'.format(item)] = all_data['middle_item_name'] == item\n",
    "    \n",
    "for star in range(4):\n",
    "    all_data['count_star{}'.format(star)] = all_data['unlocked_star_name'] == star\n",
    "    \n",
    "all_data"
   ]
  },
  {
   "cell_type": "code",
   "execution_count": null,
   "metadata": {},
   "outputs": [],
   "source": [
    "id_cols = ['sid', 'phase', 'trial_type', 'block']\n",
    "count_cols = ['count_item{}'.format(i) for i in range(4)] + ['count_star{}'.format(s) for s in range(4)]\n",
    "\n",
    "new_columns = all_data[id_cols + count_cols].groupby(id_cols).cumsum()\n",
    "all_data = all_data.drop(columns=count_cols).join(new_columns)\n",
    "all_data"
   ]
  },
  {
   "cell_type": "code",
   "execution_count": null,
   "metadata": {
    "scrolled": true
   },
   "outputs": [],
   "source": [
    "def get_sid_phase_star_rules(all_data_row, star_id):\n",
    "\n",
    "    rule = rule_data.loc[\n",
    "        (rule_data['phase'] == all_data_row['phase']) & (rule_data['sid'] == all_data_row['sid']) & (rule_data['goal_id'] == star_id),\n",
    "        ['highRules']\n",
    "    ]\n",
    "    rule_string = rule.values[0][0]\n",
    "    rule_int = [int(n[1]) for n in rule_string.split(',')]\n",
    "    \n",
    "    return rule_int\n",
    "\n",
    "# Example use\n",
    "get_sid_phase_star_rules(all_data.loc[0], star_id=0), get_sid_phase_star_rules(all_data.loc[0], star_id=1)\n",
    "\n",
    "test_dat = all_data[:30]\n",
    "test_dat['star_rule'] = test_dat.apply(get_sid_phase_star_rules, star_id=1, axis=1)\n",
    "test_dat"
   ]
  },
  {
   "cell_type": "code",
   "execution_count": null,
   "metadata": {
    "scrolled": true
   },
   "outputs": [],
   "source": [
    "def get_star_inplace(all_data_row):\n",
    "    \n",
    "    has_item0 = (all_data_row['count_item{}'.format(all_data_row['star_rule'][0])] > 0)\n",
    "    has_item1 = (all_data_row['count_item{}'.format(all_data_row['star_rule'][1])] > 0)\n",
    "    \n",
    "    return has_item0 & has_item1\n",
    "\n",
    "# Example use\n",
    "test_dat.apply(get_star_inplace, axis=1)"
   ]
  },
  {
   "cell_type": "code",
   "execution_count": null,
   "metadata": {
    "scrolled": true
   },
   "outputs": [],
   "source": [
    "for star_id in range(4):\n",
    "    \n",
    "    print(\"Star {}\".format(star_id))\n",
    "    \n",
    "    all_data['star_rule'] = all_data.apply(get_sid_phase_star_rules, star_id=star_id, axis=1)\n",
    "    all_data['star{}_inplace'.format(star_id)] = all_data.apply(get_star_inplace, axis=1)\n",
    "\n",
    "all_data"
   ]
  },
  {
   "cell_type": "code",
   "execution_count": null,
   "metadata": {},
   "outputs": [],
   "source": [
    "id_cols = ['sid', 'phase', 'trial_type', 'block', 'trial', 'subtrial']\n",
    "inplace_cols = ['star{}_inplace'.format(s) for s in range(4)]\n",
    "all_data.sort_values(by=id_cols)[id_cols + ['action_id', 'middle_item_name'] + count_cols + inplace_cols][:30]"
   ]
  },
  {
   "cell_type": "code",
   "execution_count": null,
   "metadata": {},
   "outputs": [],
   "source": [
    "id_cols = ['sid', 'phase', 'trial_type', 'block']\n",
    "\n",
    "new_cols = all_data[id_cols + inplace_cols].groupby(id_cols).cumsum()\n",
    "new_cols"
   ]
  },
  {
   "cell_type": "code",
   "execution_count": null,
   "metadata": {},
   "outputs": [],
   "source": [
    "all_data = all_data.drop(columns=inplace_cols).join(new_cols)\n",
    "all_data"
   ]
  },
  {
   "cell_type": "code",
   "execution_count": null,
   "metadata": {},
   "outputs": [],
   "source": [
    "id_cols = ['sid', 'phase', 'trial_type', 'block', 'trial', 'subtrial']\n",
    "all_data_m = all_data[id_cols + inplace_cols].melt(id_vars=id_cols, var_name='inplace_star', value_name='trials_inplace')\n",
    "all_data_m['inplace_star'] = all_data_m['inplace_star'].apply(lambda x : x.split('_')[0][-1])\n",
    "all_data_m"
   ]
  },
  {
   "cell_type": "code",
   "execution_count": null,
   "metadata": {},
   "outputs": [],
   "source": [
    "g = (gg.ggplot(all_data_m, gg.aes('trials_inplace', 'star', color='inplace_star'))\n",
    "     + gg.stat_summary()\n",
    "     + gg.stat_summary(geom='line')\n",
    "     + gg.facet_grid('phase ~ trial_type')\n",
    "    )\n",
    "g"
   ]
  },
  {
   "cell_type": "markdown",
   "metadata": {},
   "source": [
    "## Time to discover each star"
   ]
  },
  {
   "cell_type": "code",
   "execution_count": null,
   "metadata": {},
   "outputs": [],
   "source": [
    "id_cols = ['sid', 'trial_type', 'phase', 'block', 'goal_star']\n",
    "all_data['bool_unlocked_star'] = (np.invert(np.isnan(all_data['unlocked_star'])) & (all_data['unlocked_star'] > -1))\n",
    "first_dat_high = all_data.loc[all_data['bool_unlocked_star']].groupby(id_cols).aggregate('min').reset_index()[id_cols + ['trial']]\n",
    "first_dat_high['n_unique_items'] = get_n_unique_items(first_dat_high)\n",
    "first_dat_high"
   ]
  },
  {
   "cell_type": "code",
   "execution_count": null,
   "metadata": {},
   "outputs": [],
   "source": [
    "subj_dat = first_dat_high#diff_dat.loc[diff_dat['exists']].groupby(['sid', 'phase', 'trial_type', 'block', 'middle_item_both']).aggregate('mean').reset_index()\n",
    "\n",
    "gg.options.figure_size = (5, 5)\n",
    "g = (gg.ggplot(subj_dat, gg.aes('block', 'trial', color='factor(goal_star)', group='factor(goal_star)'))\n",
    "     + gg.stat_summary(position=gg.position_dodge(width=0.1))\n",
    "     + gg.stat_summary(position=gg.position_dodge(width=0.1), geom='line')\n",
    "     + gg.facet_grid('phase ~ trial_type')\n",
    "    )\n",
    "print(g)\n",
    "g.save(os.path.join('105_trialtofirstOverBlockForStars.png'))"
   ]
  },
  {
   "cell_type": "code",
   "execution_count": null,
   "metadata": {},
   "outputs": [],
   "source": [
    "g += gg.aes(color='factor(n_unique_items)')\n",
    "print(g)\n",
    "g.save(os.path.join('105_trialtofirstOverBlockForNuniqueitems.png'))"
   ]
  },
  {
   "cell_type": "code",
   "execution_count": null,
   "metadata": {},
   "outputs": [],
   "source": []
  }
 ],
 "metadata": {
  "kernelspec": {
   "display_name": "notebooks",
   "language": "python",
   "name": "notebooks"
  },
  "language_info": {
   "codemirror_mode": {
    "name": "ipython",
    "version": 3
   },
   "file_extension": ".py",
   "mimetype": "text/x-python",
   "name": "python",
   "nbconvert_exporter": "python",
   "pygments_lexer": "ipython3",
   "version": "3.8.5"
  }
 },
 "nbformat": 4,
 "nbformat_minor": 4
}
