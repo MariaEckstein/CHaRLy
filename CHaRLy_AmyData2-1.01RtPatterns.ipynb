{
 "cells": [
  {
   "cell_type": "markdown",
   "metadata": {},
   "source": [
    "# Prep"
   ]
  },
  {
   "cell_type": "markdown",
   "metadata": {},
   "source": [
    "## Imports & paths"
   ]
  },
  {
   "cell_type": "code",
   "execution_count": null,
   "metadata": {},
   "outputs": [],
   "source": [
    "import json\n",
    "import numpy as np\n",
    "import os\n",
    "import pandas as pd\n",
    "import plotnine as gg\n",
    "gg.theme_set(gg.theme_classic)\n",
    "default_figure_size = (6.4, 4.8)"
   ]
  },
  {
   "cell_type": "code",
   "execution_count": null,
   "metadata": {},
   "outputs": [],
   "source": [
    "# data_dir = 'C:/Users/maria/MEGAsync/Berkeley/CHaRLy/data/mTurk1'\n",
    "data_dir = 'C:/Users/maria/MEGAsync/Berkeley/CHaRLy/data/RPP34'\n",
    "plot_dir = data_dir + 'figures'\n",
    "if not os.path.exists(plot_dir):\n",
    "    os.makedirs(plot_dir)"
   ]
  },
  {
   "cell_type": "markdown",
   "metadata": {},
   "source": [
    "## Get all_data"
   ]
  },
  {
   "cell_type": "code",
   "execution_count": null,
   "metadata": {
    "scrolled": true
   },
   "outputs": [],
   "source": [
    "rule_data = pd.read_csv(os.path.join(data_dir, 'rule_data.csv'), index_col=0)\n",
    "rule_data.loc[rule_data.phase == 'high'][:30]"
   ]
  },
  {
   "cell_type": "code",
   "execution_count": null,
   "metadata": {},
   "outputs": [],
   "source": [
    "all_data = pd.read_csv(os.path.join(data_dir, 'all_data.csv'), index_col=0)\n",
    "all_data = all_data.loc[np.invert(all_data['inattentives'] | all_data['psych_disorder'] | all_data['head_trauma'])]\n",
    "all_data"
   ]
  },
  {
   "cell_type": "markdown",
   "metadata": {},
   "source": [
    "# Results"
   ]
  },
  {
   "cell_type": "code",
   "execution_count": null,
   "metadata": {},
   "outputs": [],
   "source": [
    "subj_dat = all_data.groupby(['sid', 'phase', 'trial_type', 'subtrial']).aggregate('mean').reset_index()\n",
    "\n",
    "g = (gg.ggplot(subj_dat, gg.aes('subtrial', 'z_rt', color='factor(sid)'))\n",
    "     + gg.geom_point(position=gg.position_dodge(width=0.2))\n",
    "     + gg.geom_line(linetype='dotted', position=gg.position_dodge(width=0.2))\n",
    "     + gg.stat_summary(gg.aes(group=1), color='black')\n",
    "     + gg.stat_summary(gg.aes(group=1), color='black', geom='line')\n",
    "     + gg.facet_grid('phase ~ trial_type')\n",
    "    )\n",
    "print(g)\n",
    "g.save(os.path.join(plot_dir, '101_zrtOverSubtrialWithIndividuals.png'))"
   ]
  },
  {
   "cell_type": "code",
   "execution_count": null,
   "metadata": {},
   "outputs": [],
   "source": [
    "subj_dat = all_data.groupby(['sid', 'subtrial', 'trial_type', 'phase']).aggregate('mean').reset_index()\n",
    "g = (gg.ggplot(subj_dat, gg.aes('subtrial', 'rt', color='phase'))\n",
    "     + gg.stat_summary()\n",
    "     + gg.stat_summary(geom='line')\n",
    "     + gg.facet_grid(' ~ trial_type')\n",
    "    )\n",
    "g.save(os.path.join(plot_dir, '101_RtOverSubtrial.png'))\n",
    "print(g)"
   ]
  },
  {
   "cell_type": "code",
   "execution_count": null,
   "metadata": {},
   "outputs": [],
   "source": [
    "g += gg.aes(y='z_rt')\n",
    "g"
   ]
  },
  {
   "cell_type": "code",
   "execution_count": null,
   "metadata": {},
   "outputs": [],
   "source": [
    "subj_dat = all_data.groupby(['sid', 'trial_type', 'phase', 'block']).aggregate('mean').reset_index()\n",
    "g = (gg.ggplot(subj_dat, gg.aes('block', 'rt_zz_low', color='phase'))\n",
    "     + gg.stat_summary()\n",
    "     + gg.stat_summary(geom='line')\n",
    "     + gg.facet_grid(' ~ trial_type')\n",
    "    )\n",
    "print(g)\n",
    "g.save(os.path.join(plot_dir, '101_RtzzlowOverBlock.png'))"
   ]
  },
  {
   "cell_type": "code",
   "execution_count": null,
   "metadata": {},
   "outputs": [],
   "source": [
    "g += gg.aes(y='rt_zz_high')\n",
    "print(g)\n",
    "g.save(os.path.join(plot_dir, '101_RtzzhighOverBlock.png'))"
   ]
  },
  {
   "cell_type": "code",
   "execution_count": null,
   "metadata": {},
   "outputs": [],
   "source": [
    "learn_dat = all_data.loc[(all_data['block'] > 9) & (all_data['trial_type'] == 'learning')]\n",
    "trans_dat = all_data.loc[(all_data['block'] < 2) & (all_data['trial_type'] == 'transfer')]\n",
    "\n",
    "subj_learn_dat = learn_dat.groupby(['sid', 'trial_type', 'phase']).aggregate('mean').reset_index()\n",
    "subj_trans_dat = trans_dat.groupby(['sid', 'trial_type', 'phase']).aggregate('mean').reset_index()\n",
    "\n",
    "assert(subj_learn_dat.shape==subj_trans_dat.shape)\n",
    "\n",
    "id_cols = ['sid', 'phase']\n",
    "subj_dat = pd.merge(\n",
    "    subj_learn_dat[id_cols + ['rt_zz_low']],\n",
    "    subj_trans_dat[id_cols + ['rt_zz_low']],\n",
    "    on=id_cols, suffixes=['_learn', '_trans']\n",
    ")\n",
    "subj_dat['rt_zz_low_trans_minus_learn'] = subj_dat['rt_zz_low_trans'] - subj_dat['rt_zz_low_learn']\n",
    "subj_dat"
   ]
  },
  {
   "cell_type": "code",
   "execution_count": null,
   "metadata": {},
   "outputs": [],
   "source": [
    "gg.options.figure_size = (2, 2)\n",
    "g = (gg.ggplot(subj_dat, gg.aes('phase', 'rt_zz_low_trans_minus_learn'))\n",
    "     + gg.stat_summary(geom='bar')\n",
    "     + gg.stat_summary()\n",
    "     + gg.labs(x='')\n",
    "    )\n",
    "print(g)\n",
    "g.save(os.path.join(plot_dir, '101_RtzigzagTransMinusLearn.png'))\n",
    "gg.options.figure_size = (5, 5)"
   ]
  },
  {
   "cell_type": "code",
   "execution_count": null,
   "metadata": {},
   "outputs": [],
   "source": [
    "id_cols = ['sid', 'trial_type', 'block', 'phase']\n",
    "interest_cols = ['rt_zz_low', 'rt_zz_high', 'acc']\n",
    "dat = all_data.groupby(id_cols).aggregate('mean').reset_index()[id_cols + interest_cols]\n",
    "dat2 = pd.merge(\n",
    "    dat.loc[dat['phase'] == 'low'].drop(columns=['phase']),\n",
    "    dat.loc[dat['phase'] == 'high'].drop(columns=['phase']),\n",
    "    on=id_cols[:-1],\n",
    "    suffixes=['_low', '_high']\n",
    ")\n",
    "dat2['rt_zzlow_low_minus_high'] = dat2['rt_zz_low_low'] - dat2['rt_zz_low_high']\n",
    "dat2['rt_zzhigh_low_minus_high'] = dat2['rt_zz_high_low'] - dat2['rt_zz_high_high']\n",
    "dat2"
   ]
  },
  {
   "cell_type": "code",
   "execution_count": null,
   "metadata": {},
   "outputs": [],
   "source": [
    "g = (gg.ggplot(dat2, gg.aes('block', 'rt_zzlow_low_minus_high', color='trial_type'))\n",
    "     + gg.stat_summary()\n",
    "     + gg.stat_summary(geom='line')\n",
    "     + gg.geom_hline(yintercept=0, linetype='dotted')\n",
    "    )\n",
    "g"
   ]
  },
  {
   "cell_type": "code",
   "execution_count": null,
   "metadata": {},
   "outputs": [],
   "source": [
    "g += gg.aes(y='rt_zzhigh_low_minus_high')\n",
    "g"
   ]
  },
  {
   "cell_type": "code",
   "execution_count": null,
   "metadata": {},
   "outputs": [],
   "source": [
    "id_cols = ['sid', 'trial_type', 'phase']\n",
    "sum_dat = all_data.groupby(id_cols).aggregate('mean').reset_index()[id_cols + ['rt_zz_low']]\n",
    "subj_dat = pd.merge(\n",
    "    sum_dat.loc[sum_dat['phase'] == 'low'].drop(columns=['phase']),\n",
    "    sum_dat.loc[sum_dat['phase'] == 'high'].drop(columns=['phase']),\n",
    "    on=id_cols[:-1],\n",
    "    suffixes=['_low', '_high']\n",
    ")\n",
    "subj_dat['rt_zz_low_low_minus_high'] = dat2['rt_zz_low_low'] - dat2['rt_zz_low_high']\n",
    "subj_dat"
   ]
  },
  {
   "cell_type": "code",
   "execution_count": null,
   "metadata": {},
   "outputs": [],
   "source": [
    "gg.options.figure_size = (2, 2)\n",
    "g = (gg.ggplot(subj_dat, gg.aes('trial_type', 'rt_zz_low_low_minus_high'))\n",
    "     + gg.stat_summary(geom='bar')\n",
    "     + gg.stat_summary()\n",
    "     + gg.labs(x='')\n",
    "    )\n",
    "print(g)\n",
    "g.save(os.path.join(plot_dir, '101_RtzigzagLowMinusHigh.png'))\n",
    "gg.options.figure_size = (5, 5)"
   ]
  },
  {
   "cell_type": "code",
   "execution_count": null,
   "metadata": {},
   "outputs": [],
   "source": [
    "subj_dat = all_data.groupby(['sid', 'subtrial', 'trial_type', 'phase', 'star_iteration']).aggregate('mean').reset_index()\n",
    "g = (gg.ggplot(subj_dat, gg.aes('star_iteration', 'rt_zz_low', color='phase'))\n",
    "     + gg.stat_summary()\n",
    "     + gg.stat_summary(geom='line')\n",
    "     + gg.facet_grid(' ~ trial_type')\n",
    "    )\n",
    "g"
   ]
  },
  {
   "cell_type": "code",
   "execution_count": null,
   "metadata": {},
   "outputs": [],
   "source": [
    "g += gg.aes(y='rt_zz_high')\n",
    "g"
   ]
  },
  {
   "cell_type": "code",
   "execution_count": null,
   "metadata": {},
   "outputs": [],
   "source": [
    "subj_dat = all_data.groupby(['sid', 'subtrial', 'trial_type', 'phase', 'block', 'goal_star']).aggregate('mean').reset_index()\n",
    "gg.options.figure_size = (7, 4)\n",
    "g = (gg.ggplot(subj_dat, gg.aes('acc', 'rt_zz_low', color='factor(sid)', shape='factor(goal_star)'))\n",
    "     + gg.geom_point()\n",
    "     + gg.geom_line(alpha=0.5)\n",
    "#      + gg.geom_smooth(gg.aes(group=1))\n",
    "     + gg.theme(legend_position='none')\n",
    "     + gg.facet_grid('phase ~ trial_type + goal_star')\n",
    "    )\n",
    "g.save(os.path.join(plot_dir, '101_RtzigzagOverAcc.png'))\n",
    "print(g)"
   ]
  },
  {
   "cell_type": "markdown",
   "metadata": {},
   "source": [
    "# When do 2-key sequences get activated?"
   ]
  },
  {
   "cell_type": "code",
   "execution_count": null,
   "metadata": {},
   "outputs": [],
   "source": [
    "all_data['middle_item_bool'] = all_data['middle_item'] != -1\n",
    "all_data['star_bool'] = all_data['unlocked_star'] != -1\n",
    "\n",
    "id_cols = ['sid', 'phase', 'trial_type', 'block', 'trial']\n",
    "interest_cols = ['middle_item_bool', 'rt_zz_low', 'rt_zz_high', 'rt', 'log_rt']\n",
    "sum_dat = all_data.loc[all_data['subtrial'].isin([1, 3])].groupby(id_cols).aggregate('sum').reset_index()[id_cols + interest_cols]\n",
    "sum_dat"
   ]
  },
  {
   "cell_type": "code",
   "execution_count": null,
   "metadata": {},
   "outputs": [],
   "source": [
    "subj_dat = sum_dat.groupby(['sid', 'phase', 'trial_type', 'middle_item_bool']).aggregate('mean').reset_index()\n",
    "\n",
    "gg.options.figure_size = (4, 3.5)\n",
    "g = (gg.ggplot(subj_dat, gg.aes('factor(middle_item_bool)', 'rt_zz_low', group=1))\n",
    "#      + gg.geom_point(position=gg.position_dodge(width=0.3))\n",
    "#      + gg.geom_line(position=gg.position_dodge(width=0.3), linetype='dotted')\n",
    "     + gg.stat_summary()\n",
    "     + gg.stat_summary(geom='line')\n",
    "     + gg.labs(x='N middle items obtained')\n",
    "     + gg.facet_grid('phase ~ trial_type')\n",
    "    )\n",
    "print(g)\n",
    "g.save(os.path.join(plot_dir, '101_RtzigzagOverItemSuccess.png'))"
   ]
  },
  {
   "cell_type": "code",
   "execution_count": null,
   "metadata": {},
   "outputs": [],
   "source": [
    "g += gg.aes(y='rt_zz_high')\n",
    "g"
   ]
  },
  {
   "cell_type": "code",
   "execution_count": null,
   "metadata": {},
   "outputs": [],
   "source": [
    "g += gg.aes(y='rt')\n",
    "print(g)\n",
    "g.save(os.path.join(plot_dir, '101_RtsOverItemSuccess.png'))\n",
    "gg.options.figure_size = (5, 5)"
   ]
  },
  {
   "cell_type": "markdown",
   "metadata": {},
   "source": [
    "## Effect of intermediate item on RTs"
   ]
  },
  {
   "cell_type": "code",
   "execution_count": null,
   "metadata": {
    "scrolled": true
   },
   "outputs": [],
   "source": [
    "all_data['bool_middle_item'] =  np.invert(np.isnan(all_data['middle_item'])) * (all_data['middle_item'] != -1)\n",
    "\n",
    "got_middle_sub_dat = all_data.loc[(all_data['bool_middle_item']) & (all_data['subtrial'] == 1)]\n",
    "got_middle_idxs = got_middle_sub_dat[['sid', 'phase', 'trial_type', 'block', 'trial']]\n",
    "\n",
    "no_middle_sub_dat = all_data.loc[np.invert(all_data['bool_middle_item']) & (all_data['subtrial'] == 1)]\n",
    "no_middle_idxs = no_middle_sub_dat[['sid', 'phase', 'trial_type', 'block', 'trial']]"
   ]
  },
  {
   "cell_type": "code",
   "execution_count": null,
   "metadata": {},
   "outputs": [],
   "source": [
    "all_data[['sid', 'trial', 'subtrial', 'middle_item', 'bool_middle_item']]"
   ]
  },
  {
   "cell_type": "code",
   "execution_count": null,
   "metadata": {},
   "outputs": [],
   "source": [
    "got_middle = pd.merge(got_middle_idxs, all_data, how='left')\n",
    "no_middle = pd.merge(no_middle_idxs, all_data, how='left')\n",
    "\n",
    "assert np.round(got_middle.shape[0] / got_middle_idxs.shape[0]) == 4\n",
    "assert np.round(no_middle.shape[0] / no_middle_idxs.shape[0]) == 4\n",
    "\n",
    "got_middle['got_middle'] = True\n",
    "no_middle['got_middle'] = False"
   ]
  },
  {
   "cell_type": "code",
   "execution_count": null,
   "metadata": {},
   "outputs": [],
   "source": [
    "mid_data = pd.concat([got_middle, no_middle])\n",
    "mid_data"
   ]
  },
  {
   "cell_type": "code",
   "execution_count": null,
   "metadata": {},
   "outputs": [],
   "source": [
    "subj_dat = mid_data.loc[mid_data['subtrial'] == 2].groupby(['sid', 'trial_type', 'phase', 'trial', 'got_middle']).aggregate('mean').reset_index()\n",
    "\n",
    "g = (gg.ggplot(subj_dat, gg.aes('trial', 'rt', color='got_middle'))\n",
    "     + gg.stat_summary()\n",
    "     + gg.stat_summary(geom='line')\n",
    "     + gg.labs(y='RT on item 2 (after potential item)')\n",
    "     + gg.facet_grid('phase ~ trial_type')\n",
    "    )\n",
    "print(g)\n",
    "g.save(os.path.join(plot_dir, '101_item3RtsOverTrial.png'))"
   ]
  },
  {
   "cell_type": "code",
   "execution_count": null,
   "metadata": {},
   "outputs": [],
   "source": [
    "subj_dat = mid_data.loc[mid_data['subtrial'] == 2].groupby(['sid', 'trial_type', 'phase', 'block', 'got_middle']).aggregate('mean').reset_index()\n",
    "\n",
    "g += gg.aes(x='block')\n",
    "g.data = subj_dat\n",
    "print(g)\n",
    "g.save(os.path.join(plot_dir, '101_item3RtsOverBlock.png'))"
   ]
  },
  {
   "cell_type": "markdown",
   "metadata": {},
   "source": [
    "## RT zigzag 4-item stars vs 3-item stars"
   ]
  },
  {
   "cell_type": "code",
   "execution_count": null,
   "metadata": {
    "scrolled": false
   },
   "outputs": [],
   "source": [
    "all_data['4_item_star'] = all_data['goal_star'].isin([0, 1])\n",
    "subj_dat = all_data.groupby(['sid', 'goal_star', 'phase', 'trial_type']).aggregate('mean').reset_index()\n",
    "\n",
    "g = (gg.ggplot(subj_dat, gg.aes('factor(goal_star)', 'rt_zz_low', color='4_item_star'))\n",
    "     + gg.stat_summary()\n",
    "     + gg.facet_grid('phase ~ trial_type')\n",
    "    )\n",
    "print(g)\n",
    "g.save(os.path.join(plot_dir, '101_rtzzlowOverStar.png'))"
   ]
  },
  {
   "cell_type": "code",
   "execution_count": null,
   "metadata": {},
   "outputs": [],
   "source": []
  },
  {
   "cell_type": "code",
   "execution_count": null,
   "metadata": {},
   "outputs": [],
   "source": [
    "all_data[['sid', 'phase', 'trial_type', 'middle_item_bool']]"
   ]
  },
  {
   "cell_type": "code",
   "execution_count": null,
   "metadata": {},
   "outputs": [],
   "source": [
    "(all_data[['middle_item_lowRules']])"
   ]
  },
  {
   "cell_type": "code",
   "execution_count": null,
   "metadata": {},
   "outputs": [],
   "source": [
    "all_data.loc[(all_data['subtrial'] == 3) & (all_data['middle_item'] > -1)]"
   ]
  },
  {
   "cell_type": "code",
   "execution_count": null,
   "metadata": {},
   "outputs": [],
   "source": [
    "subj_dat[['subtrial', 'middle_item']]"
   ]
  },
  {
   "cell_type": "code",
   "execution_count": null,
   "metadata": {},
   "outputs": [],
   "source": [
    "subj_dat = all_data.loc[(all_data['subtrial'].isin([1, 3]))]\n",
    "subj_dat['bool_middle_item'] = subj_dat['middle_item'] != -1\n",
    "\n",
    "g = (gg.ggplot(subj_dat, gg.aes('bool_middle_item', 'rt_zz_low', color='phase'))\n",
    "     + gg.stat_summary(position=gg.position_dodge(width=0.5))\n",
    "     + gg.facet_grid('subtrial ~ trial_type')\n",
    "    )\n",
    "print(g)\n",
    "g.save(os.path.join(plot_dir, '101_RtzigzagOverItemAchieved.png'))"
   ]
  },
  {
   "cell_type": "markdown",
   "metadata": {},
   "source": [
    "## RT pattern || behavior on a single-block level"
   ]
  },
  {
   "cell_type": "code",
   "execution_count": null,
   "metadata": {},
   "outputs": [],
   "source": [
    "gg.options.figure_size = (10, 7)\n",
    "g = (gg.ggplot(rt_wide_block, gg.aes('block', 'rt_zigzag', color='factor(sid)', shape='factor(goal_star)', linetype='chance_performer'))\n",
    "     + gg.geom_point(gg.aes(size='acc'), position=gg.position_dodge(width=0.5))\n",
    "     + gg.geom_line(gg.aes(group='factor(sid)'), position=gg.position_dodge(width=0.5))\n",
    "     + gg.facet_grid('phase ~ trial_type')\n",
    "    )\n",
    "g.save(os.path.join(plot_dir, '101_RtzigzagOverBlocks.png'))\n",
    "print(g)\n",
    "gg.options.figure_size = default_figure_size"
   ]
  },
  {
   "cell_type": "code",
   "execution_count": null,
   "metadata": {
    "scrolled": false
   },
   "outputs": [],
   "source": [
    "g = (gg.ggplot(rt_wide_block, gg.aes('acc', 'rt_zigzag', color='factor(sid)', shape='factor(goal_star)'))\n",
    "     + gg.geom_point()\n",
    "     + gg.geom_line(gg.aes(group='factor(sid)'), alpha=0.2)\n",
    "     + gg.geom_smooth(group=1, color='black')\n",
    "     + gg.facet_grid('phase ~ trial_type')\n",
    "    )\n",
    "print(g)\n",
    "g.save(os.path.join(plot_dir, '01_RtzigzagAcc_0.png'))\n",
    "\n",
    "g2 = g\n",
    "g2.data = rt_wide_block.loc[rt_wide_block.acc > 0]\n",
    "print(g2)\n",
    "g2.save(os.path.join(plot_dir, '01_RtzigzagAcc.png'))"
   ]
  },
  {
   "cell_type": "code",
   "execution_count": null,
   "metadata": {
    "scrolled": true
   },
   "outputs": [],
   "source": [
    "# RT zigzag supports learning middle-layer items: no zigzag = no middle-layer items\n",
    "# lots of zigzag = intermediate performance (learning); no zigzag = perfect performance (no distrimination)\n",
    "gll = g + gg.aes(x='bool_middle_item_lowRulesLearnOnly')\n",
    "gll.save(os.path.join(plot_dir, '01_RtzigzagLoWRulesLearn.png'))\n",
    "gll"
   ]
  },
  {
   "cell_type": "code",
   "execution_count": null,
   "metadata": {
    "scrolled": false
   },
   "outputs": [],
   "source": [
    "# ???\n",
    "glt = g + gg.aes(x='bool_middle_item_lowRulesTransferOnly')\n",
    "glt.save(os.path.join(plot_dir, '01_RtzigzagLoWRulesTransfer.png'))\n",
    "glt"
   ]
  },
  {
   "cell_type": "code",
   "execution_count": null,
   "metadata": {
    "scrolled": false
   },
   "outputs": [],
   "source": [
    "# Good star performance comes AFTER learning middle-layer items => when RT zigzag is gone completely.\n",
    "ghl = g + gg.aes(x='bool_unlocked_star_highRulesLearnOnly')\n",
    "ghl.save(os.path.join(plot_dir, '01_RtzigzagHighRulesLearn.png'))\n",
    "ghl"
   ]
  },
  {
   "cell_type": "code",
   "execution_count": null,
   "metadata": {
    "scrolled": false
   },
   "outputs": [],
   "source": [
    "# High-level transfer does NOT require relearning middle-layer sequences\n",
    "# => RT zigzag occurs in the beginning, when trying out different middle-layer sequences, and then dies out as we learn them\n",
    "ght = g + gg.aes(x='bool_unlocked_star_highRulesTransferOnly')\n",
    "ght.save(os.path.join(plot_dir, '01_RtzigzagHighRulesTransfer.png'))\n",
    "ght"
   ]
  },
  {
   "cell_type": "code",
   "execution_count": null,
   "metadata": {},
   "outputs": [],
   "source": []
  }
 ],
 "metadata": {
  "kernelspec": {
   "display_name": "notebooks",
   "language": "python",
   "name": "notebooks"
  },
  "language_info": {
   "codemirror_mode": {
    "name": "ipython",
    "version": 3
   },
   "file_extension": ".py",
   "mimetype": "text/x-python",
   "name": "python",
   "nbconvert_exporter": "python",
   "pygments_lexer": "ipython3",
   "version": "3.8.5"
  }
 },
 "nbformat": 4,
 "nbformat_minor": 2
}
