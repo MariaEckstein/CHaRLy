{
 "cells": [
  {
   "cell_type": "markdown",
   "metadata": {},
   "source": [
    "# Imports"
   ]
  },
  {
   "cell_type": "code",
   "execution_count": null,
   "metadata": {},
   "outputs": [],
   "source": [
    "import json\n",
    "import numpy as np\n",
    "import os\n",
    "import pandas as pd\n",
    "import plotnine as gg\n",
    "gg.theme_set(gg.theme_classic)\n",
    "default_figure_size = (6.4, 4.8)"
   ]
  },
  {
   "cell_type": "code",
   "execution_count": null,
   "metadata": {},
   "outputs": [],
   "source": [
    "# data_dir = 'C:/Users/maria/MEGAsync/Berkeley/CHaRLy/data/mTurk1'\n",
    "data_dir = 'C:/Users/maria/MEGAsync/Berkeley/CHaRLy/data/RPP34'\n",
    "plot_dir = data_dir + 'figures'\n",
    "if not os.path.exists(plot_dir):\n",
    "    os.makedirs(plot_dir)"
   ]
  },
  {
   "cell_type": "markdown",
   "metadata": {},
   "source": [
    "# Get data"
   ]
  },
  {
   "cell_type": "code",
   "execution_count": null,
   "metadata": {
    "scrolled": true
   },
   "outputs": [],
   "source": [
    "rule_data = pd.read_csv(os.path.join(data_dir, 'rule_data.csv'), index_col=0)\n",
    "rule_data.loc[rule_data.phase == 'high'][:30]"
   ]
  },
  {
   "cell_type": "code",
   "execution_count": null,
   "metadata": {},
   "outputs": [],
   "source": [
    "all_data = pd.read_csv(os.path.join(data_dir, 'all_data.csv'), index_col=0)\n",
    "all_data = all_data.loc[np.invert(all_data['inattentives'] | all_data['psych_disorder'] | all_data['head_trauma'])]\n",
    "all_data"
   ]
  },
  {
   "cell_type": "markdown",
   "metadata": {},
   "source": [
    "## Create new dataframes"
   ]
  },
  {
   "cell_type": "markdown",
   "metadata": {},
   "source": [
    "### first_dat"
   ]
  },
  {
   "cell_type": "code",
   "execution_count": null,
   "metadata": {},
   "outputs": [],
   "source": [
    "id_cols = ['sid', 'trial_type', 'phase', 'block', 'middle_item', 'subtrial']\n",
    "first_dat = all_data.loc[all_data['bool_middle_item']].groupby(id_cols).aggregate('min').reset_index()[id_cols + ['trial']]\n",
    "first_dat"
   ]
  },
  {
   "cell_type": "markdown",
   "metadata": {},
   "source": [
    "### first_dat_high"
   ]
  },
  {
   "cell_type": "code",
   "execution_count": null,
   "metadata": {},
   "outputs": [],
   "source": [
    "id_cols = ['sid', 'trial_type', 'phase', 'block', 'goal_star']\n",
    "all_data['bool_unlocked_star'] = (np.invert(np.isnan(all_data['unlocked_star'])) & (all_data['unlocked_star'] > -1))\n",
    "first_dat_high = all_data.loc[all_data['bool_unlocked_star']].groupby(id_cols).aggregate('min').reset_index()[id_cols + ['trial']]\n",
    "first_dat_high"
   ]
  },
  {
   "cell_type": "markdown",
   "metadata": {},
   "source": [
    "### first_dat_w"
   ]
  },
  {
   "cell_type": "code",
   "execution_count": null,
   "metadata": {},
   "outputs": [],
   "source": [
    "# Look at difference in discovery between subtrial 1 and 3 -> does it transfer?\n",
    "first_dat['subtrial'] = first_dat['subtrial'].astype(int).astype(str)\n",
    "first_dat_w = first_dat.pivot_table(\n",
    "    index=['sid', 'trial_type', 'phase', 'block', 'middle_item'],\n",
    "    columns=['subtrial'],\n",
    "    values=['trial']\n",
    ").reset_index()\n",
    "first_dat_w.columns = [''.join([str(e) for e in f]) for f in first_dat_w.columns.values]\n",
    "first_dat_w['trial_diff_s1s3'] = np.abs(first_dat_w['trial1'] - first_dat_w['trial3'])\n",
    "first_dat_w"
   ]
  },
  {
   "cell_type": "markdown",
   "metadata": {},
   "source": [
    "### first_dat_extra"
   ]
  },
  {
   "cell_type": "code",
   "execution_count": null,
   "metadata": {
    "scrolled": true
   },
   "outputs": [],
   "source": [
    "trial_shifts = range(-5, 10)\n",
    "first_dat_extra = pd.DataFrame()\n",
    "\n",
    "for row_i in range(first_dat.shape[0]):\n",
    "    \n",
    "    if (row_i % 50) == 1:\n",
    "        print('{} of {} rows ({}%)                                                     '.format(\n",
    "            row_i+1, first_dat.shape[0], 100 * np.round((row_i+1) / first_dat.shape[0], 3)), end='\\r')\n",
    "    \n",
    "    for trial_shift in trial_shifts:\n",
    "        row = first_dat.loc[row_i, ['sid', 'trial_type', 'phase', 'block', 'trial', 'subtrial', 'middle_item']]\n",
    "        row['trial'] += trial_shift\n",
    "        row['trial_reltofirst'] = trial_shift\n",
    "        first_dat_extra = first_dat_extra.append(row)"
   ]
  },
  {
   "cell_type": "code",
   "execution_count": null,
   "metadata": {},
   "outputs": [],
   "source": [
    "first_dat_extra = first_dat_extra.rename(columns={'middle_item': 'middle_item_sequence', 'subtrial': 'subtrial_sequence'})\n",
    "first_dat_extra = first_dat_extra.loc[first_dat_extra['trial'] >= 0]\n",
    "first_dat_extra = first_dat_extra.reset_index(drop=True)\n",
    "first_dat_extra"
   ]
  },
  {
   "cell_type": "markdown",
   "metadata": {},
   "source": [
    "### f_dat"
   ]
  },
  {
   "cell_type": "code",
   "execution_count": null,
   "metadata": {},
   "outputs": [],
   "source": [
    "f_dat = pd.merge(first_dat_extra, all_data, how='left')\n",
    "for item in set(first_dat['middle_item']):\n",
    "    f_dat['bool_item_{}'.format(item)] = (f_dat['middle_item'] == item).astype(int)\n",
    "f_dat[['sid', 'trial_type', 'phase', 'block', 'trial', 'subtrial', 'trial_reltofirst', 'rt', 'middle_item',\n",
    "       'middle_item_sequence', 'subtrial_sequence', 'bool_item_1.0']]\n",
    "f_dat"
   ]
  },
  {
   "cell_type": "code",
   "execution_count": null,
   "metadata": {},
   "outputs": [],
   "source": [
    "f_dat['item_after_first'] = 0\n",
    "f_dat.loc[(f_dat['middle_item_sequence'] == 0) & (f_dat['bool_item_0.0'] == 1), 'item_after_first'] = 1\n",
    "f_dat.loc[(f_dat['middle_item_sequence'] == 1) & (f_dat['bool_item_1.0'] == 1), 'item_after_first'] = 1\n",
    "f_dat.loc[(f_dat['middle_item_sequence'] == 2) & (f_dat['bool_item_2.0'] == 1), 'item_after_first'] = 1\n",
    "f_dat.loc[(f_dat['middle_item_sequence'] == 3) & (f_dat['bool_item_3.0'] == 1), 'item_after_first'] = 1\n",
    "f_dat"
   ]
  },
  {
   "cell_type": "markdown",
   "metadata": {},
   "source": [
    "### perf_dat"
   ]
  },
  {
   "cell_type": "code",
   "execution_count": null,
   "metadata": {},
   "outputs": [],
   "source": [
    "subj_dat = first_dat_w.groupby(['sid', 'phase', 'trial_type']).aggregate('mean').reset_index().drop(columns=['block', 'middle_item'])\n",
    "subj_dat"
   ]
  },
  {
   "cell_type": "code",
   "execution_count": null,
   "metadata": {},
   "outputs": [],
   "source": [
    "id_cols = ['sid', 'phase', 'trial_type']\n",
    "perf_dat = all_data.groupby(id_cols).aggregate('mean').reset_index()[id_cols + ['rt', 'log_rt', 'acc', 'rt_zz_low', 'rt_zz_high']]\n",
    "perf_dat = pd.merge(subj_dat, perf_dat)\n",
    "perf_dat"
   ]
  },
  {
   "cell_type": "markdown",
   "metadata": {},
   "source": [
    "# Results"
   ]
  },
  {
   "cell_type": "markdown",
   "metadata": {},
   "source": [
    "## Choices around item discovery"
   ]
  },
  {
   "cell_type": "code",
   "execution_count": null,
   "metadata": {},
   "outputs": [],
   "source": [
    "f_dat['shape'] = f_dat['acc'].apply(lambda x: 0 if np.isnan(x) or x == 0 else 1)\n",
    "sub_dat = f_dat.loc[\n",
    "    (f_dat['sid'].isin(list(set(f_dat['sid']))[:10])) &  # Display 10 participants to keep figure reasonable\n",
    "    (f_dat['block'] <= 1)  # Display only blocks 0 and 1\n",
    "     ]\n",
    "sub_dat"
   ]
  },
  {
   "cell_type": "code",
   "execution_count": null,
   "metadata": {},
   "outputs": [],
   "source": [
    "gg.options.figure_size = (10, 6)\n",
    "g = (gg.ggplot(sub_dat, gg.aes('subtrial', 'trial_reltofirst', color='factor(key_press)', shape='factor(shape)'))\n",
    "     + gg.geom_point()\n",
    "     + gg.facet_grid('trial_type ~ block + sid', scales='free_x')\n",
    "    )\n",
    "print(g)\n",
    "g.save(os.path.join(plot_dir, '104_RawKeyPressesAroundItemDiscover.png'))\n",
    "gg.options.figure_size = default_figure_size"
   ]
  },
  {
   "cell_type": "markdown",
   "metadata": {},
   "source": [
    "## RTs around item discovery"
   ]
  },
  {
   "cell_type": "code",
   "execution_count": null,
   "metadata": {},
   "outputs": [],
   "source": [
    "subj_dat = f_dat.groupby(['sid', 'phase', 'trial_type', 'trial_reltofirst', 'subtrial']).aggregate('mean').reset_index()\n",
    "\n",
    "# Strong decrease in subtrial0 and subtrial1 RT! => Because we're learning this item :)\n",
    "gg.options.figure_size = (5, 4)\n",
    "g = (gg.ggplot(subj_dat, gg.aes('trial_reltofirst', 'rt', color='subtrial', group='subtrial'))\n",
    "     + gg.stat_summary(position=gg.position_dodge(width=0.5))\n",
    "     + gg.stat_summary(geom='line', position=gg.position_dodge(width=0.5))\n",
    "     + gg.geom_vline(xintercept=0, linetype='dotted')\n",
    "     + gg.facet_grid('phase ~ trial_type')\n",
    "    )\n",
    "print(g)\n",
    "g.save(os.path.join(plot_dir, '104_subtrialRtsOverTrialreltofirst.png'))"
   ]
  },
  {
   "cell_type": "code",
   "execution_count": null,
   "metadata": {},
   "outputs": [],
   "source": [
    "g += gg.aes(y='log_rt')\n",
    "g"
   ]
  },
  {
   "cell_type": "code",
   "execution_count": null,
   "metadata": {},
   "outputs": [],
   "source": [
    "# RT zigzag low also seems to go down!\n",
    "g += gg.aes(y='rt_zz_low', color='trial_reltofirst' == 0)# + gg.stat_summary(gg.aes(y='rt_zz_high'), color='red')\n",
    "g.data = g.data.loc[g.data['subtrial'] == 0]\n",
    "g"
   ]
  },
  {
   "cell_type": "code",
   "execution_count": null,
   "metadata": {},
   "outputs": [],
   "source": [
    "# But not high zigzag!\n",
    "g += gg.aes(y='rt_zz_high')\n",
    "g"
   ]
  },
  {
   "cell_type": "markdown",
   "metadata": {},
   "source": [
    "## Trials it takes to transfer a sequence from positions01 to 23"
   ]
  },
  {
   "cell_type": "code",
   "execution_count": null,
   "metadata": {},
   "outputs": [],
   "source": [
    "gg.options.figure_size = (5, 5)\n",
    "g = (gg.ggplot(first_dat_w, gg.aes('block', 'trial_diff_s1s3', color='factor(middle_item)'))\n",
    "     + gg.stat_summary()\n",
    "     + gg.stat_summary(geom='line')\n",
    "     + gg.facet_grid('phase ~ trial_type')\n",
    "    )\n",
    "g"
   ]
  },
  {
   "cell_type": "code",
   "execution_count": null,
   "metadata": {},
   "outputs": [],
   "source": [
    "# Gradual decrease in the number of trials needed to activate middle_items\n",
    "# In low transfer, 2 & 3 take much longer than 0 & 1 -> because they are new!\n",
    "# In high transfer, previous knowledge is retained :)\n",
    "g = (gg.ggplot(first_dat, gg.aes('block', 'trial', color='factor(middle_item)'))\n",
    "     + gg.stat_summary(position=gg.position_dodge(width=0.5))\n",
    "     + gg.stat_summary(position=gg.position_dodge(width=0.5), geom='line')\n",
    "     + gg.facet_grid('phase ~ trial_type')\n",
    "    )\n",
    "print(g)\n",
    "g.save(os.path.join('104_trialOfSequenceDiscoveryOverBlock.png'))"
   ]
  },
  {
   "cell_type": "markdown",
   "metadata": {},
   "source": [
    "## Time to discover each goal star"
   ]
  },
  {
   "cell_type": "code",
   "execution_count": null,
   "metadata": {
    "scrolled": false
   },
   "outputs": [],
   "source": [
    "# Takes longer in low than high?\n",
    "g += gg.aes(color='factor(goal_star)')\n",
    "g.data = first_dat_high\n",
    "g"
   ]
  },
  {
   "cell_type": "markdown",
   "metadata": {},
   "source": [
    "## Frequency of middle-layer item after first discovery"
   ]
  },
  {
   "cell_type": "code",
   "execution_count": null,
   "metadata": {},
   "outputs": [],
   "source": [
    "# subj_dat = first_dat_extra.groubpy(['sid', 'phase', 'trial_type', 'trial_reltofirst']).aggregate('mean').reset_index()\n",
    "subj_dat = f_dat.loc[f_dat['subtrial'] == 1]#.groupby(['sid', 'phase', 'trial_type', 'trial_reltofirst', 'subtrial_sequence', 'middle_item_sequence']).aggregate('mean').reset_index()\n",
    "\n",
    "g = (gg.ggplot(subj_dat, gg.aes('trial_reltofirst', 'item_after_first', color='middle_item_sequence', group='middle_item_sequence'))\n",
    "     + gg.stat_summary()\n",
    "     + gg.stat_summary(geom='line')\n",
    "     + gg.geom_vline(xintercept=0, linetype='dotted')\n",
    "     + gg.facet_grid('phase + subtrial_sequence ~ trial_type')\n",
    "    )\n",
    "print(g)\n",
    "# g.save(os.path.join(plot_dir, '105_itemFrequencyOverTrialsreltofirst.png'))"
   ]
  },
  {
   "cell_type": "code",
   "execution_count": null,
   "metadata": {},
   "outputs": [],
   "source": [
    "# subj_dat = first_dat_extra.groubpy(['sid', 'phase', 'trial_type', 'trial_reltofirst']).aggregate('mean').reset_index()\n",
    "subj_dat = f_dat.loc[f_dat['subtrial'] == 1].groupby(['sid', 'phase', 'trial_type', 'trial_reltofirst', 'subtrial_sequence', 'middle_item_sequence']).aggregate('mean').reset_index()\n",
    "\n",
    "g = (gg.ggplot(subj_dat, gg.aes('trial_reltofirst', 'bool_item_0.0', color='middle_item_sequence', group='middle_item_sequence'))\n",
    "     + gg.stat_summary()\n",
    "     + gg.stat_summary(geom='line')\n",
    "     + gg.geom_vline(xintercept=0, linetype='dotted')\n",
    "     + gg.facet_grid('phase + subtrial_sequence ~ trial_type')\n",
    "    )\n",
    "print(g)\n",
    "g.save(os.path.join(plot_dir, '105_itemFrequencyOverTrialsreltofirst.png'))"
   ]
  },
  {
   "cell_type": "code",
   "execution_count": null,
   "metadata": {},
   "outputs": [],
   "source": [
    "g += gg.aes(y='bool_item_1.0')\n",
    "g"
   ]
  },
  {
   "cell_type": "code",
   "execution_count": null,
   "metadata": {},
   "outputs": [],
   "source": [
    "g += gg.aes(y='bool_item_2.0')\n",
    "g"
   ]
  },
  {
   "cell_type": "code",
   "execution_count": null,
   "metadata": {},
   "outputs": [],
   "source": [
    "g += gg.aes(y='bool_item_3.0')\n",
    "g"
   ]
  },
  {
   "cell_type": "markdown",
   "metadata": {},
   "source": [
    "## Relationship between sequence transfer (`trial_diff_s1s3`) and overall performance?"
   ]
  },
  {
   "cell_type": "code",
   "execution_count": null,
   "metadata": {},
   "outputs": [],
   "source": [
    "gg.options.figure_size = (8, 4)\n",
    "g = (gg.ggplot(perf_dat, gg.aes('trial_diff_s1s3', 'acc', color='phase'))\n",
    "     + gg.geom_point()\n",
    "     + gg.geom_smooth(method='lm')\n",
    "     + gg.facet_grid('~ trial_type')\n",
    "    )\n",
    "print(g)\n",
    "g.save(os.path.join('104_accOverTrialDiffSequenceDiscorvery.png'))"
   ]
  },
  {
   "cell_type": "code",
   "execution_count": null,
   "metadata": {},
   "outputs": [],
   "source": [
    "g += gg.aes(y='rt')\n",
    "g"
   ]
  },
  {
   "cell_type": "code",
   "execution_count": null,
   "metadata": {},
   "outputs": [],
   "source": [
    "g += gg.aes(y='rt_zz_low')\n",
    "g"
   ]
  },
  {
   "cell_type": "code",
   "execution_count": null,
   "metadata": {},
   "outputs": [],
   "source": [
    "g += gg.aes(y='rt_zz_high')\n",
    "g"
   ]
  }
 ],
 "metadata": {
  "kernelspec": {
   "display_name": "notebooks",
   "language": "python",
   "name": "notebooks"
  },
  "language_info": {
   "codemirror_mode": {
    "name": "ipython",
    "version": 3
   },
   "file_extension": ".py",
   "mimetype": "text/x-python",
   "name": "python",
   "nbconvert_exporter": "python",
   "pygments_lexer": "ipython3",
   "version": "3.8.5"
  }
 },
 "nbformat": 4,
 "nbformat_minor": 4
}
