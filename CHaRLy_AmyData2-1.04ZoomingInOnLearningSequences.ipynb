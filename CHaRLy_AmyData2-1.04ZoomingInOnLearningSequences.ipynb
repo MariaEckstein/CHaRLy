{
 "cells": [
  {
   "cell_type": "markdown",
   "metadata": {},
   "source": [
    "# Imports"
   ]
  },
  {
   "cell_type": "code",
   "execution_count": null,
   "metadata": {},
   "outputs": [],
   "source": [
    "import json\n",
    "import numpy as np\n",
    "import os\n",
    "import pandas as pd\n",
    "import plotnine as gg\n",
    "import statsmodels.formula.api as smf\n",
    "from Functions import *\n",
    "gg.theme_set(gg.theme_classic)\n",
    "default_figure_size = (6.4, 4.8)"
   ]
  },
  {
   "cell_type": "code",
   "execution_count": null,
   "metadata": {},
   "outputs": [],
   "source": [
    "# data_dir = 'C:/Users/maria/MEGAsync/Berkeley/CHaRLy/data/mTurk1'\n",
    "make_firstdatextra = False\n",
    "data_dir = 'C:/Users/maria/MEGAsync/Berkeley/CHaRLy/data/RPP34'\n",
    "plot_dir = data_dir + 'figures'\n",
    "if not os.path.exists(plot_dir):\n",
    "    os.makedirs(plot_dir)"
   ]
  },
  {
   "cell_type": "markdown",
   "metadata": {},
   "source": [
    "# Get data"
   ]
  },
  {
   "cell_type": "code",
   "execution_count": null,
   "metadata": {
    "scrolled": true
   },
   "outputs": [],
   "source": [
    "rule_data = pd.read_csv(os.path.join(data_dir, 'rule_data.csv'), index_col=0)\n",
    "rule_data.loc[rule_data.phase == 'high'][:30]"
   ]
  },
  {
   "cell_type": "code",
   "execution_count": null,
   "metadata": {},
   "outputs": [],
   "source": [
    "all_data = pd.read_csv(os.path.join(data_dir, 'all_data.csv'), index_col=0)\n",
    "all_data['subtrial'] = all_data['subtrial'].astype(int)\n",
    "all_data"
   ]
  },
  {
   "cell_type": "markdown",
   "metadata": {},
   "source": [
    "# Results"
   ]
  },
  {
   "cell_type": "markdown",
   "metadata": {},
   "source": [
    "## Prepare data"
   ]
  },
  {
   "cell_type": "code",
   "execution_count": null,
   "metadata": {},
   "outputs": [],
   "source": [
    "# Get the trial in which an item was first discovered, for each block, each item, each participant\n",
    "id_cols = ['sid', 'trial_type', 'phase', 'block', 'middle_item_both', 'subtrial']\n",
    "first_dat = all_data.groupby(id_cols).aggregate('min').reset_index()[id_cols + ['trial']]\n",
    "first_dat = first_dat.loc[first_dat['middle_item_both'] < 8]  # Only keep 4 non-items\n",
    "first_dat['middle_item_both'] = first_dat['middle_item_both'].astype(int)\n",
    "first_dat = first_dat.reset_index(drop=True)\n",
    "first_dat"
   ]
  },
  {
   "cell_type": "code",
   "execution_count": null,
   "metadata": {
    "scrolled": true
   },
   "outputs": [],
   "source": [
    "def make_first_dat_extra(first_dat, trial_shifts=range(-5, 10)):\n",
    "    \n",
    "    \"\"\"\n",
    "    Select 5 trials before and 10 trials after the first discover of an item and put them in a dataframe.\n",
    "    \"\"\"\n",
    "\n",
    "    first_dat_extra = pd.DataFrame()\n",
    "\n",
    "    for row_i in range(first_dat.shape[0]):\n",
    "\n",
    "        if (row_i % 50) == 1:\n",
    "            print('{} of {} rows ({}%)                       '.format(\n",
    "                row_i+1, first_dat.shape[0], 100 * np.round((row_i+1) / first_dat.shape[0], 3)), end='\\r')\n",
    "\n",
    "        for trial_shift in trial_shifts:\n",
    "            row = first_dat.loc[row_i, ['sid', 'trial_type', 'phase', 'block', 'trial', 'subtrial', 'middle_item_both']]\n",
    "            row['trial'] += trial_shift\n",
    "            row['trial_reltofirst'] = trial_shift\n",
    "            first_dat_extra = first_dat_extra.append(row)\n",
    "            \n",
    "    first_dat_extra = first_dat_extra.rename(columns={'middle_item_both': 'middle_item_both_sequence', 'subtrial': 'subtrial_sequence'})\n",
    "    first_dat_extra = first_dat_extra.loc[first_dat_extra['trial'] >= 0]\n",
    "    first_dat_extra['trial_reltofirst'] = first_dat_extra['trial_reltofirst'].astype(int)\n",
    "    first_dat_extra = first_dat_extra.reset_index(drop=True)\n",
    "            \n",
    "    return first_dat_extra"
   ]
  },
  {
   "cell_type": "code",
   "execution_count": null,
   "metadata": {
    "scrolled": true
   },
   "outputs": [],
   "source": [
    "if make_firstdatextra:\n",
    "    \n",
    "    first_dat_extra = make_first_dat_extra(first_dat, trial_shifts=range(-5, 10))\n",
    "    first_dat_extra.to_csv(os.path.join(data_dir, 'first_dat_extra.csv'), index=False)\n",
    "else:\n",
    "\n",
    "    first_dat_extra = pd.read_csv(os.path.join(data_dir, 'first_dat_extra.csv'))"
   ]
  },
  {
   "cell_type": "code",
   "execution_count": null,
   "metadata": {
    "scrolled": true
   },
   "outputs": [],
   "source": [
    "first_dat_extra.loc[first_dat_extra['middle_item_both_sequence'] > 4][:30]"
   ]
  },
  {
   "cell_type": "code",
   "execution_count": null,
   "metadata": {
    "scrolled": true
   },
   "outputs": [],
   "source": [
    "# Get info on actions, rts, etc. on these selected trials and add them to the dataframe\n",
    "f_dat = pd.merge(first_dat_extra, all_data, how='left')\n",
    "\n",
    "# `sequence_item_bool` indicates whether the current item is the one that this sequence is about, i.e., \n",
    "# the one that occurs for the first time at `trial_reltofirst` == 0 and because of which we collected all\n",
    "# the trials before and after.\n",
    "f_dat['sequence_item_bool'] = f_dat['middle_item_both_sequence'] == f_dat['middle_item_both']\n",
    "f_dat['sequence_item_bool'] = f_dat['sequence_item_bool'].astype(int)\n",
    "\n",
    "# exists indicates whether a 2-key sequence \"exists\" (leads to an item on the screen) or not (any made-up sequence\n",
    "# with no consequence for the game).\n",
    "f_dat['exists'] = f_dat['middle_item_both'] < 4\n",
    "\n",
    "# Check it out\n",
    "f_dat[\n",
    "    ['sid', 'phase', 'trial_type', 'block', 'trial', 'subtrial', 'action_id', 'middle_item_both_sequence', 'middle_item_both', 'subtrial_sequence', 'trial_reltofirst', ]\n",
    "][40:70]"
   ]
  },
  {
   "cell_type": "markdown",
   "metadata": {},
   "source": [
    "## Choices around item discovery"
   ]
  },
  {
   "cell_type": "code",
   "execution_count": null,
   "metadata": {},
   "outputs": [],
   "source": [
    "sub_dat = f_dat.loc[\n",
    "    (f_dat['sid'].isin(list(set(f_dat['sid']))[:5])) &  # Display 10 participants to keep figure reasonable\n",
    "    (f_dat['block'] == 0) &  # Display only blocks 0 and 1\n",
    "    (f_dat['middle_item_both_sequence'] < 4)\n",
    "     ]\n",
    "sub_dat"
   ]
  },
  {
   "cell_type": "code",
   "execution_count": null,
   "metadata": {
    "scrolled": false
   },
   "outputs": [],
   "source": [
    "gg.options.figure_size = (7, 5)\n",
    "g = (gg.ggplot(sub_dat, gg.aes('subtrial', 'trial_reltofirst', color='factor(key_press)', shape='factor(bool_middle_item)'))\n",
    "     + gg.geom_point()\n",
    "     + gg.coord_cartesian(xlim=(-0.5, 3.1))\n",
    "     + gg.facet_grid('trial_type ~ subtrial_sequence + sid', scales='free_x')#, labeller='label_both')\n",
    "    )\n",
    "print(g)\n",
    "g.save(os.path.join(plot_dir, '104_RawKeyPressesAroundItemDiscover.png'))\n",
    "gg.options.figure_size = default_figure_size"
   ]
  },
  {
   "cell_type": "markdown",
   "metadata": {},
   "source": [
    "## RTs around item discovery"
   ]
  },
  {
   "cell_type": "code",
   "execution_count": null,
   "metadata": {
    "scrolled": false
   },
   "outputs": [],
   "source": [
    "subj_dat = f_dat.loc[(f_dat['subtrial_sequence'] == 1)].groupby(\n",
    "    ['sid', 'phase', 'trial_type', 'trial_reltofirst', 'subtrial']).aggregate('mean').reset_index()\n",
    "\n",
    "# Strong decrease in subtrial0 and subtrial1 RT! => Because we're learning this item :)\n",
    "gg.options.figure_size = (5, 4)\n",
    "g = (gg.ggplot(subj_dat, gg.aes('trial_reltofirst', 'rt', color='subtrial', group='subtrial'))\n",
    "     + gg.stat_summary(position=gg.position_dodge(width=0.1))\n",
    "     + gg.stat_summary(geom='line', position=gg.position_dodge(width=0.1))\n",
    "     + gg.geom_vline(xintercept=0, linetype='dotted')\n",
    "     + gg.labs(x='Trial (aligned to first item discovery)', y='Response time (msec)')\n",
    "     + gg.facet_grid('phase ~ trial_type')\n",
    "    )\n",
    "print(g)\n",
    "g.save(os.path.join(plot_dir, '104_subtrialRtsOverTrialreltofirst.png'))"
   ]
  },
  {
   "cell_type": "code",
   "execution_count": null,
   "metadata": {},
   "outputs": [],
   "source": [
    "g += gg.aes(y='log_rt')\n",
    "g"
   ]
  },
  {
   "cell_type": "code",
   "execution_count": null,
   "metadata": {
    "scrolled": false
   },
   "outputs": [],
   "source": [
    "sub_dat_st2 = f_dat.loc[\n",
    "    f_dat['subtrial_sequence'].isin([1]) & (f_dat['trial_reltofirst'].isin([-1, 0])) & (f_dat['middle_item_both_sequence'] < 4)\n",
    "]\n",
    "\n",
    "subj_dat = sub_dat_st2.groupby(['sid', 'phase', 'trial_type', 'subtrial', 'subtrial_sequence', 'trial_reltofirst', 'middle_item_both_sequence']).aggregate('mean').reset_index()\n",
    "\n",
    "g = (gg.ggplot(subj_dat, gg.aes('factor(trial_reltofirst)', 'log_rt', color='phase', group='phase'))\n",
    "     + gg.stat_summary(position=gg.position_dodge(width=0.3))\n",
    "     + gg.stat_summary(position=gg.position_dodge(width=0.3), geom='line')\n",
    "     + gg.facet_grid('subtrial ~ trial_type', scales='free')\n",
    "    )\n",
    "g"
   ]
  },
  {
   "cell_type": "code",
   "execution_count": null,
   "metadata": {},
   "outputs": [],
   "source": [
    "def get_diff_dat(sub_dat,\n",
    "                 id_cols = ['sid', 'phase', 'trial_type', 'block', 'middle_item_both_sequence', 'subtrial_sequence', 'subtrial']):\n",
    "    \n",
    "    diff_dat = pd.merge(\n",
    "        sub_dat.loc[sub_dat['trial_reltofirst'] == -1, id_cols + ['rt']],\n",
    "        sub_dat.loc[sub_dat['trial_reltofirst'] == 0, id_cols + ['trial', 'trial_', 'rt']],\n",
    "        on=id_cols, suffixes=['_pre', '_at']\n",
    "    )\n",
    "    diff_dat['rt_at_minus_pre'] = diff_dat['rt_at'] - diff_dat['rt_pre']\n",
    "    diff_dat['changed_item'] = diff_dat['middle_item_both_sequence'].isin([2, 3])  # Which items were modified in low transfer?\n",
    "    diff_dat = diff_dat.dropna()\n",
    "\n",
    "    return diff_dat\n",
    "\n",
    "# # Example use\n",
    "# get_diff_dat(sub_dat)"
   ]
  },
  {
   "cell_type": "code",
   "execution_count": null,
   "metadata": {},
   "outputs": [],
   "source": [
    "gg.options.figure_size = (5, 4)\n",
    "diff_dat = get_diff_dat(sub_dat_st2)\n",
    "g = (gg.ggplot(diff_dat, gg.aes('block', 'rt_at_minus_pre', color='factor(middle_item_both_sequence)'))\n",
    "     + gg.stat_summary(position=gg.position_dodge(width=0.3))\n",
    "     + gg.stat_summary(position=gg.position_dodge(width=0.3), geom='line')\n",
    "     + gg.geom_hline(yintercept=0, linetype='dotted')\n",
    "     + gg.facet_grid('phase ~ subtrial + trial_type')\n",
    "    )\n",
    "g"
   ]
  },
  {
   "cell_type": "code",
   "execution_count": null,
   "metadata": {},
   "outputs": [],
   "source": [
    "subj_dat = diff_dat.groupby(['sid', 'trial_type', 'phase', 'subtrial']).aggregate('mean').reset_index()\n",
    "\n",
    "gg.options.figure_size = (5, 3)\n",
    "g = (gg.ggplot(subj_dat, gg.aes('trial_type', 'rt_at_minus_pre', color='factor(phase)', group='factor(phase)'))\n",
    "     + gg.stat_summary(position=gg.position_dodge(width=0.3))\n",
    "     + gg.stat_summary(position=gg.position_dodge(width=0.3), geom='line')\n",
    "     + gg.geom_hline(yintercept=0, linetype='dotted')\n",
    "     + gg.labs(x='', color='', y='RT slowing after first item')\n",
    "     + gg.facet_grid('~ subtrial')\n",
    "    )\n",
    "print(g)\n",
    "g.save(os.path.join(plot_dir, 'rt_at_minus_preOverPhase.png'))"
   ]
  },
  {
   "cell_type": "code",
   "execution_count": null,
   "metadata": {},
   "outputs": [],
   "source": [
    "subj_dat = diff_dat.groupby(['sid', 'trial_type', 'phase', 'changed_item', 'subtrial']).aggregate('mean').reset_index()\n",
    "\n",
    "g = g + gg.aes(color='changed_item', group='changed_item') + gg.facet_grid('phase ~ subtrial')\n",
    "g.data = subj_dat\n",
    "g"
   ]
  },
  {
   "cell_type": "code",
   "execution_count": null,
   "metadata": {
    "scrolled": false
   },
   "outputs": [],
   "source": [
    "predictors = [\n",
    "    '1',\n",
    "    'block + phase * trial_type',\n",
    "]\n",
    "\n",
    "mod_dat = diff_dat.loc[diff_dat['subtrial'] == 2]\n",
    "for pred in predictors:\n",
    "    mod = smf.mixedlm(formula='rt_at_minus_pre ~ {}'.format(pred), data=mod_dat, groups=mod_dat['sid']).fit()\n",
    "    print(mod.summary())"
   ]
  },
  {
   "cell_type": "markdown",
   "metadata": {},
   "source": [
    "## \"Practicing\" items after first discovery"
   ]
  },
  {
   "cell_type": "markdown",
   "metadata": {},
   "source": [
    "### More repetition of existing that non-existing sequences -> item appearance motivates repetition"
   ]
  },
  {
   "cell_type": "code",
   "execution_count": null,
   "metadata": {},
   "outputs": [],
   "source": [
    "id_cols = ['sid', 'phase', 'trial_type', 'trial_reltofirst', 'exists']\n",
    "subj_dat = f_dat.loc[\n",
    "    (f_dat['subtrial'] == f_dat['subtrial_sequence']) &  # indicates whether the current `subtrial` (indicating the subtrial of the action, rt, etc.) is the subtrial of initial item discovery (`middle_item_both_sequence`).\n",
    "    (f_dat['middle_item_both'] < 8) &  # 4 \"existing\" (lead to item) and 4 \"non-existing\" items (random 2-key sequences), for comparable numbers\n",
    "    (f_dat['acc'] == 0)  # Only trials in which NO star was achieved, to control for that\n",
    "].groupby(id_cols).aggregate('mean').reset_index()\n",
    "\n",
    "g = (gg.ggplot(subj_dat, gg.aes('trial_reltofirst', 'sequence_item_bool', color='exists', group='exists'))\n",
    "#      + gg.geom_point(alpha=0.1, position='jitter')\n",
    "     + gg.stat_summary(position=gg.position_dodge(width=0.2))\n",
    "     + gg.stat_summary(position=gg.position_dodge(width=0.2), geom='line')\n",
    "     + gg.geom_hline(yintercept=0, linetype='dotted')\n",
    "     + gg.geom_vline(xintercept=0, linetype='dotted')\n",
    "     + gg.labs(x='Trial (aligned to first item discovery)', y='Frequency of sequence', color='Item appeared')\n",
    "     + gg.coord_cartesian(xlim=(-2, 9))\n",
    "     + gg.facet_grid('phase ~ trial_type')\n",
    "    )\n",
    "print(g)\n",
    "g.save(os.path.join(plot_dir, '104_repeatItemsAfterDiscoveryByExist.png'))"
   ]
  },
  {
   "cell_type": "code",
   "execution_count": null,
   "metadata": {},
   "outputs": [],
   "source": [
    "id_cols = ['sid', 'phase', 'trial_type', 'trial_reltofirst', 'exists']\n",
    "diff_dat = pd.merge(\n",
    "    subj_dat.loc[subj_dat['exists'], id_cols[:-1] + ['sequence_item_bool']],\n",
    "    subj_dat.loc[np.invert(subj_dat['exists']), id_cols[:-1] + ['sequence_item_bool']],\n",
    "    on=id_cols[:-1], suffixes=['_exists', '_existsnot']\n",
    ")\n",
    "diff_dat['seq_bool_ex_minus_not'] = diff_dat['sequence_item_bool_exists'] - diff_dat['sequence_item_bool_existsnot']\n",
    "diff_dat = diff_dat.loc[diff_dat['trial_reltofirst'] > 0]  # Trials AFTER item discovery\n",
    "diff_dat"
   ]
  },
  {
   "cell_type": "code",
   "execution_count": null,
   "metadata": {},
   "outputs": [],
   "source": [
    "m = (gg.ggplot(diff_dat, gg.aes('trial_reltofirst', 'seq_bool_ex_minus_not'))\n",
    "     + gg.stat_summary()\n",
    "     + gg.stat_summary(geom='line')\n",
    "     + gg.geom_hline(yintercept=0, linetype='dotted')\n",
    "     + gg.geom_vline(xintercept=0, linetype='dotted')\n",
    "     + gg.facet_grid('phase ~ trial_type')\n",
    "    )\n",
    "m"
   ]
  },
  {
   "cell_type": "code",
   "execution_count": null,
   "metadata": {
    "scrolled": false
   },
   "outputs": [],
   "source": [
    "predictors = [\n",
    "    '1',\n",
    "    'trial_reltofirst + phase * trial_type',\n",
    "]\n",
    "\n",
    "for pred in predictors:\n",
    "    mod = smf.mixedlm(formula='seq_bool_ex_minus_not ~ {}'.format(pred), data=diff_dat, groups=diff_dat['sid']).fit()\n",
    "    print(mod.summary())"
   ]
  },
  {
   "cell_type": "markdown",
   "metadata": {},
   "source": [
    "### Split up by individual items"
   ]
  },
  {
   "cell_type": "code",
   "execution_count": null,
   "metadata": {},
   "outputs": [],
   "source": [
    "subj_dat = f_dat.loc[\n",
    "    (f_dat['subtrial'] == f_dat['subtrial_sequence']) & (f_dat['middle_item_both'] < 8)\n",
    "].groupby(['sid', 'phase', 'trial_type', 'trial_reltofirst', 'middle_item_both']).aggregate('mean').reset_index()\n",
    "\n",
    "g += gg.aes(color='factor(middle_item_both)', group='factor(middle_item_both)')\n",
    "g.data = subj_dat\n",
    "print(g)\n",
    "g.save(os.path.join(plot_dir, '104_repeatItemsAfterDiscoveryByItem.png'))"
   ]
  },
  {
   "cell_type": "markdown",
   "metadata": {},
   "source": [
    "### Differences during transfer -> modified items are practiced more (?)"
   ]
  },
  {
   "cell_type": "code",
   "execution_count": null,
   "metadata": {},
   "outputs": [],
   "source": [
    "subj_dat = f_dat.loc[\n",
    "    (f_dat['subtrial'] == f_dat['subtrial_sequence']) & (f_dat['middle_item_both'] < 4) & (f_dat['trial_type'] == 'transfer')\n",
    "].groupby(['sid', 'phase', 'trial_type', 'trial_reltofirst', 'middle_item_both', 'subtrial_sequence']).aggregate('mean').reset_index()\n",
    "\n",
    "g += gg.facet_grid('phase ~ trial_type + subtrial_sequence')\n",
    "g.data = subj_dat\n",
    "print(g)\n",
    "g.save(os.path.join('104_repeatItemsAfterDiscoveryByItemSubtrial.png'))"
   ]
  },
  {
   "cell_type": "markdown",
   "metadata": {},
   "source": [
    "## Trials it takes to transfer a sequence between positions01 and 23"
   ]
  },
  {
   "cell_type": "code",
   "execution_count": null,
   "metadata": {},
   "outputs": [],
   "source": [
    "# Look at difference in discovery between subtrial 1 and 3 -> does it transfer?\n",
    "first_dat['subtrial'] = first_dat['subtrial'].astype(int)\n",
    "diff_dat = first_dat.pivot_table(\n",
    "    index=['sid', 'trial_type', 'phase', 'block', 'middle_item_both'],\n",
    "    columns=['subtrial'],\n",
    "    values=['trial']\n",
    ").reset_index()\n",
    "diff_dat.columns = [''.join([str(e) for e in f]) for f in diff_dat.columns.values]\n",
    "diff_dat['trial_diff_s1s3'] = np.abs(diff_dat['trial1'] - diff_dat['trial3'])\n",
    "diff_dat['exists'] = diff_dat['middle_item_both'] < 4\n",
    "diff_dat = diff_dat.dropna()\n",
    "diff_dat"
   ]
  },
  {
   "cell_type": "code",
   "execution_count": null,
   "metadata": {},
   "outputs": [],
   "source": [
    "subj_dat = diff_dat.loc[diff_dat['exists']].groupby(['sid', 'phase', 'trial_type', 'block', 'middle_item_both']).aggregate('mean').reset_index()\n",
    "\n",
    "gg.options.figure_size = (5, 5)\n",
    "g = (gg.ggplot(subj_dat, gg.aes('block', 'trial_diff_s1s3', color='factor(middle_item_both)'))\n",
    "     + gg.stat_summary(position=gg.position_dodge(width=0.1))\n",
    "     + gg.stat_summary(position=gg.position_dodge(width=0.1), geom='line')\n",
    "     + gg.facet_grid('phase ~ trial_type')\n",
    "    )\n",
    "g"
   ]
  },
  {
   "cell_type": "code",
   "execution_count": null,
   "metadata": {},
   "outputs": [],
   "source": [
    "subj_dat = diff_dat.groupby(['sid', 'phase', 'trial_type', 'block', 'exists']).aggregate('mean').reset_index()\n",
    "\n",
    "gg.options.figure_size = (3, 4)\n",
    "g = (gg.ggplot(subj_dat, gg.aes('1', 'trial_diff_s1s3', fill='exists'))\n",
    "     + gg.stat_summary(position=gg.position_dodge(width=0.9), geom='bar')\n",
    "     + gg.stat_summary(position=gg.position_dodge(width=0.9))\n",
    "     + gg.scale_x_continuous(breaks=[])\n",
    "     + gg.labs(x='', y='Trials to transfer sequence between positions', fill='Item appeared')\n",
    "     + gg.facet_grid('phase ~ trial_type')\n",
    "    )\n",
    "print(g)\n",
    "g.save(os.path.join('104_trialsToTransferByExists.png'))"
   ]
  },
  {
   "cell_type": "code",
   "execution_count": null,
   "metadata": {},
   "outputs": [],
   "source": [
    "subj_dat.groupby('exists').aggregate('mean').reset_index()[['exists', 'trial_diff_s1s3']]"
   ]
  },
  {
   "cell_type": "code",
   "execution_count": null,
   "metadata": {},
   "outputs": [],
   "source": [
    "id_cols = ['sid', 'phase', 'trial_type', 'block']\n",
    "diffdiff_dat = pd.merge(\n",
    "    subj_dat.loc[subj_dat['exists'], id_cols + ['trial_diff_s1s3']],\n",
    "    subj_dat.loc[np.invert(subj_dat['exists']), id_cols + ['trial_diff_s1s3']],\n",
    "    on=id_cols, suffixes=['_exists', '_existsnot']\n",
    ")\n",
    "diffdiff_dat['trial_diff_s1s3_exists_minus_not'] = diffdiff_dat['trial_diff_s1s3_exists'] - diffdiff_dat['trial_diff_s1s3_existsnot']\n",
    "diffdiff_dat"
   ]
  },
  {
   "cell_type": "code",
   "execution_count": null,
   "metadata": {},
   "outputs": [],
   "source": [
    "g = (gg.ggplot(diffdiff_dat, gg.aes('block', 'trial_diff_s1s3_exists_minus_not'))\n",
    "     + gg.stat_summary()\n",
    "     + gg.geom_hline(yintercept=0, linetype='dotted')\n",
    "     + gg.facet_grid('phase ~ trial_type')\n",
    "    )\n",
    "g"
   ]
  },
  {
   "cell_type": "code",
   "execution_count": null,
   "metadata": {},
   "outputs": [],
   "source": [
    "mod = smf.mixedlm(\n",
    "    formula='trial_diff_s1s3_exists_minus_not ~ block',\n",
    "    data=diffdiff_dat, groups=diffdiff_dat['sid']\n",
    ").fit()\n",
    "mod.summary()"
   ]
  },
  {
   "cell_type": "code",
   "execution_count": null,
   "metadata": {
    "scrolled": false
   },
   "outputs": [],
   "source": [
    "# Gradual decrease in the number of trials needed to activate middle_items\n",
    "# In low transfer, 2 & 3 take much longer than 0 & 1 -> because they are new!\n",
    "# In high transfer, previous knowledge is retained :)\n",
    "g = (gg.ggplot(first_dat, gg.aes('block', 'trial', color='factor(middle_item_both)'))\n",
    "     + gg.stat_summary(position=gg.position_dodge(width=0.5))\n",
    "     + gg.stat_summary(position=gg.position_dodge(width=0.5), geom='line')\n",
    "     + gg.labs(y='Trial of first activation in block')\n",
    "     + gg.facet_grid('phase ~ trial_type')\n",
    "    )\n",
    "print(g)\n",
    "g.save(os.path.join('104_trialOfSequenceDiscoveryOverBlock.png'))"
   ]
  },
  {
   "cell_type": "markdown",
   "metadata": {},
   "source": [
    "## Change in RT patterns with practice"
   ]
  },
  {
   "cell_type": "code",
   "execution_count": null,
   "metadata": {
    "scrolled": true
   },
   "outputs": [],
   "source": [
    "cols = ['sid', 'phase', 'trial_type', 'block', 'middle_item_both', 'subtrial', 'trial', 'rt']\n",
    "\n",
    "# sub_dat1 = all_data.loc[(all_data['subtrial'] == 1), cols]\n",
    "# sub_dat3 = all_data.loc[(all_data['subtrial'] == 3), cols]\n",
    "\n",
    "sub_dat1 = all_data.loc[(all_data['middle_item_both'] < 8) & (all_data['subtrial'] == 1), cols]\n",
    "sub_dat3 = all_data.loc[(all_data['middle_item_both'] < 8) & (all_data['subtrial'] == 3), cols]\n",
    "\n",
    "sub_dat1['middle_item_both'] = sub_dat1['middle_item_both'].astype(int)\n",
    "sub_dat3['middle_item_both'] = sub_dat3['middle_item_both'].astype(int)\n",
    "\n",
    "sub_dat3[:30]"
   ]
  },
  {
   "cell_type": "code",
   "execution_count": null,
   "metadata": {},
   "outputs": [],
   "source": [
    "id_cols = ['sid', 'phase', 'trial_type', 'block', 'trial']\n",
    "\n",
    "d1 = sub_dat1.pivot_table(index=id_cols, columns='middle_item_both', values='rt').reset_index()\n",
    "d1.columns = ['rt{}'.format(c) if type(c) == int else c for c in d.columns]\n",
    "\n",
    "d3 = sub_dat3.pivot_table(index=id_cols, columns='middle_item_both', values='rt').reset_index()\n",
    "d3.columns = ['rt{}'.format(c) if type(c) == int else c for c in d.columns]\n",
    "\n",
    "d3"
   ]
  },
  {
   "cell_type": "code",
   "execution_count": null,
   "metadata": {
    "scrolled": true
   },
   "outputs": [],
   "source": [
    "def get_rt_dat(d, subtrial, middle_items=range(8)):\n",
    "    \n",
    "    rt_dat = pd.DataFrame()\n",
    "\n",
    "    for middle_item in middle_items:\n",
    "\n",
    "        item_dat = d[['sid', 'phase', 'trial_type', 'block', 'trial', 'rt{}'.format(middle_item)]].dropna()\n",
    "\n",
    "        # Count trials\n",
    "        id_cols = ['sid', 'phase', 'trial_type', 'block']\n",
    "        item_dat['ones'] = 1\n",
    "        item_dat['times_got_item'] = item_dat[id_cols + ['ones']].groupby(id_cols).cumsum()\n",
    "        item_dat = item_dat.drop(columns=['ones'])\n",
    "\n",
    "        # Beautify\n",
    "        item_dat = item_dat.rename(columns={'rt{}'.format(middle_item): 'rt'})\n",
    "        item_dat['middle_item_both'] = middle_item\n",
    "        item_dat['subtrial'] = subtrial\n",
    "\n",
    "        rt_dat = rt_dat.append(item_dat)\n",
    "\n",
    "    rt_dat['exists'] = rt_dat['middle_item_both'] < 4\n",
    "    \n",
    "    return rt_dat"
   ]
  },
  {
   "cell_type": "code",
   "execution_count": null,
   "metadata": {},
   "outputs": [],
   "source": [
    "rt_dat = get_rt_dat(d1, 1).append(get_rt_dat(d3, 3))\n",
    "subj_dat = rt_dat.groupby(['sid', 'phase', 'trial_type', 'times_got_item', 'middle_item_both', 'subtrial']).aggregate('mean').reset_index()\n",
    "\n",
    "gg.options.figure_size = (6, 4)\n",
    "g = (gg.ggplot(subj_dat, gg.aes('times_got_item', 'rt', color='middle_item_both', group='middle_item_both'))\n",
    "     + gg.stat_summary(position=gg.position_dodge(width=0.1))\n",
    "     + gg.stat_summary(position=gg.position_dodge(width=0.1), geom='line')\n",
    "     + gg.facet_grid('phase ~ trial_type + subtrial', labeller='labeller_both')\n",
    "     + gg.coord_cartesian(ylim=(0, 450))\n",
    "    )\n",
    "print(g)"
   ]
  },
  {
   "cell_type": "code",
   "execution_count": null,
   "metadata": {},
   "outputs": [],
   "source": [
    "subj_dat = rt_dat.loc[rt_dat['exists']\n",
    "                     ].groupby(['sid', 'phase', 'trial_type', 'times_got_item', 'middle_item_both']).aggregate('mean').reset_index()\n",
    "\n",
    "g = g + gg.facet_grid('phase ~ trial_type') + gg.coord_cartesian(ylim=(120, 280))\n",
    "g.data = subj_dat\n",
    "print(g)\n",
    "g.save(os.path.join('104_rt2OverTimesSameSequenceExecuted.png'))"
   ]
  },
  {
   "cell_type": "code",
   "execution_count": null,
   "metadata": {},
   "outputs": [],
   "source": [
    "subj_dat = rt_dat.groupby(['sid', 'times_got_item', 'exists']).aggregate('mean').reset_index()\n",
    "\n",
    "gg.options.figure_size = (3, 3)\n",
    "g = (gg.ggplot(subj_dat, gg.aes('times_got_item', 'rt', color='exists', group='exists'))\n",
    "     + gg.stat_summary(position=gg.position_dodge(width=0.1))\n",
    "     + gg.stat_summary(position=gg.position_dodge(width=0.1), geom='line')\n",
    "     + gg.labs(x='# Sequence executions', y='RT at sequence completion', color='Item appeared')\n",
    "     + gg.coord_cartesian(xlim=(0, 15), ylim=(120, 280))\n",
    "    )\n",
    "print(g)\n",
    "g.save(os.path.join('104_rt2OverTimesSameSequenceExecutedByExists.png'))"
   ]
  },
  {
   "cell_type": "code",
   "execution_count": null,
   "metadata": {},
   "outputs": [],
   "source": [
    "# subj_dat = rt_dat.loc[rt_dat['exists']].groupby(['sid', 'trial_type', 'times_got_item', 'subtrial', 'block']).aggregate('mean').reset_index()\n",
    "subj_dat = rt_dat.groupby(['sid', 'trial_type', 'times_got_item', 'exists', 'block']).aggregate('mean').reset_index()\n",
    "\n",
    "mod = smf.mixedlm('rt ~ times_got_item * exists + block * exists + trial_type * exists', subj_dat, groups=subj_dat['sid']).fit()\n",
    "mod.summary()"
   ]
  },
  {
   "cell_type": "markdown",
   "metadata": {},
   "source": [
    "## Time to discover each goal star"
   ]
  },
  {
   "cell_type": "code",
   "execution_count": null,
   "metadata": {},
   "outputs": [],
   "source": [
    "id_cols = ['sid', 'trial_type', 'phase', 'block', 'goal_star']\n",
    "all_data['bool_unlocked_star'] = (np.invert(np.isnan(all_data['unlocked_star'])) & (all_data['unlocked_star'] > -1))\n",
    "first_dat_high = all_data.loc[all_data['bool_unlocked_star']].groupby(id_cols).aggregate('min').reset_index()[id_cols + ['trial']]\n",
    "first_dat_high['n_unique_items'] = get_n_unique_items(first_dat_high)\n",
    "first_dat_high"
   ]
  },
  {
   "cell_type": "code",
   "execution_count": null,
   "metadata": {},
   "outputs": [],
   "source": [
    "subj_dat = first_dat_high#diff_dat.loc[diff_dat['exists']].groupby(['sid', 'phase', 'trial_type', 'block', 'middle_item_both']).aggregate('mean').reset_index()\n",
    "\n",
    "gg.options.figure_size = (5, 5)\n",
    "g = (gg.ggplot(subj_dat, gg.aes('block', 'trial', color='goal_star', group='goal_star'))\n",
    "     + gg.stat_summary(position=gg.position_dodge(width=0.1))\n",
    "     + gg.stat_summary(position=gg.position_dodge(width=0.1), geom='line')\n",
    "     + gg.facet_grid('phase ~ trial_type')\n",
    "    )\n",
    "print(g)\n",
    "g.save(os.path.join('104_trialtofirstOverBlockForStars.png'))"
   ]
  },
  {
   "cell_type": "code",
   "execution_count": null,
   "metadata": {},
   "outputs": [],
   "source": [
    "g += gg.aes(color='n_unique_items')\n",
    "print(g)\n",
    "g.save(os.path.join('104_trialtofirstOverBlockForNuniqueitems.png'))"
   ]
  },
  {
   "cell_type": "markdown",
   "metadata": {},
   "source": [
    "## Relationship between sequence transfer (`trial_diff_s1s3`) and overall performance?"
   ]
  },
  {
   "cell_type": "markdown",
   "metadata": {},
   "source": [
    "### perf_dat"
   ]
  },
  {
   "cell_type": "code",
   "execution_count": null,
   "metadata": {},
   "outputs": [],
   "source": [
    "subj_dat = first_dat_w.groupby(['sid', 'phase', 'trial_type']).aggregate('mean').reset_index().drop(columns=['block', 'middle_item_both'])\n",
    "subj_dat"
   ]
  },
  {
   "cell_type": "code",
   "execution_count": null,
   "metadata": {
    "scrolled": true
   },
   "outputs": [],
   "source": [
    "id_cols = ['sid', 'phase', 'trial_type']\n",
    "perf_dat = all_data.groupby(id_cols).aggregate('mean').reset_index()[id_cols + ['rt', 'log_rt', 'acc']]\n",
    "perf_dat = pd.merge(subj_dat, perf_dat)\n",
    "perf_dat"
   ]
  },
  {
   "cell_type": "code",
   "execution_count": null,
   "metadata": {},
   "outputs": [],
   "source": [
    "gg.options.figure_size = (8, 4)\n",
    "g = (gg.ggplot(perf_dat, gg.aes('trial_diff_s1s3', 'acc', color='phase'))\n",
    "     + gg.geom_point()\n",
    "     + gg.geom_smooth(method='lm')\n",
    "     + gg.facet_grid('~ trial_type')\n",
    "    )\n",
    "print(g)\n",
    "g.save(os.path.join('104_accOverTrialDiffSequenceDiscorvery.png'))"
   ]
  },
  {
   "cell_type": "code",
   "execution_count": null,
   "metadata": {},
   "outputs": [],
   "source": [
    "g += gg.aes(y='rt')\n",
    "g"
   ]
  },
  {
   "cell_type": "markdown",
   "metadata": {},
   "source": [
    "## Difference in learning curve between first presentation of each star"
   ]
  },
  {
   "cell_type": "markdown",
   "metadata": {},
   "source": [
    "(First presentation of second star minus first presentation of first star -> is there a difference?)"
   ]
  },
  {
   "cell_type": "code",
   "execution_count": null,
   "metadata": {},
   "outputs": [],
   "source": [
    "def get_diff_dat(all_data, blocks):\n",
    "    \n",
    "    t_dat = all_data.loc[(all_data['trial_type'] == 'transfer') & (all_data['block'].isin(blocks))]\n",
    "    id_cols = ['sid', 'trial_type', 'phase', 'trial', 'subtrial']\n",
    "    \n",
    "    diff_dat = pd.merge(\n",
    "        t_dat.loc[t_dat['block'] == blocks[0], id_cols + ['acc', 'rt', 'goal_star']],\n",
    "        t_dat.loc[t_dat['block'] == blocks[1], id_cols + ['acc', 'rt', 'goal_star']],\n",
    "        on=id_cols, suffixes=['_block{}'.format(blocks[0]), '_block{}'.format(blocks[1])]\n",
    "    )\n",
    "    diff_dat['acc_block{}_minus_{}'.format(blocks[1], blocks[0])] = \\\n",
    "        diff_dat['acc_block{}'.format(blocks[1])] - diff_dat['acc_block{}'.format(blocks[0])]\n",
    "    \n",
    "    return diff_dat\n",
    "\n",
    "# # Example use\n",
    "# get_diff_dat(all_data, [0, 1])"
   ]
  },
  {
   "cell_type": "code",
   "execution_count": null,
   "metadata": {},
   "outputs": [],
   "source": [
    "blocks = [0, 1]\n",
    "d = get_diff_dat(all_data, blocks)\n",
    "id_cols = ['sid', 'trial_type', 'trial', 'subtrial']\n",
    "dd_dat = pd.merge(d.loc[d['phase'] == 'high', id_cols + ['acc_block{}_minus_{}'.format(blocks[1], blocks[0])]],\n",
    "         d.loc[d['phase'] == 'low', id_cols + ['acc_block{}_minus_{}'.format(blocks[1], blocks[0])]],\n",
    "         on=id_cols, suffixes=['_high', '_low']\n",
    "        )\n",
    "dd_dat['{}minus{}_highminuslow'.format(blocks[1], blocks[0])] = dd_dat['acc_block1_minus_0_high'] - dd_dat['acc_block1_minus_0_low']\n",
    "dd_dat"
   ]
  },
  {
   "cell_type": "code",
   "execution_count": null,
   "metadata": {},
   "outputs": [],
   "source": [
    "g = (gg.ggplot(dd_dat, gg.aes('trial', '1minus0_highminuslow'))\n",
    "     + gg.stat_summary()\n",
    "     + gg.geom_hline(yintercept=0, linetype='dotted')\n",
    "    )\n",
    "g"
   ]
  },
  {
   "cell_type": "code",
   "execution_count": null,
   "metadata": {},
   "outputs": [],
   "source": [
    "# Make sure we're comparing the same / different stars\n",
    "d = get_diff_dat(all_data, [0, 2])\n",
    "a = d.loc[np.invert(np.isnan(d['goal_star_block0'])), ['goal_star_block0', 'goal_star_block2']]\n",
    "assert np.mean(a['goal_star_block0'] == a['goal_star_block2']) == 1"
   ]
  },
  {
   "cell_type": "code",
   "execution_count": null,
   "metadata": {
    "scrolled": false
   },
   "outputs": [],
   "source": [
    "for blocks in ([0, 1], [1, 2], [2, 3], [0, 2], [1, 3]):\n",
    "    \n",
    "    subj_dat = get_diff_dat(all_data, blocks).groupby(['sid', 'phase', 'trial']).aggregate('mean').reset_index()\n",
    "    gg.options.figure_size = (3, 3)\n",
    "    g = (gg.ggplot(subj_dat, gg.aes('trial', 'acc_block{}_minus_{}'.format(blocks[1], blocks[0]), color='phase'))\n",
    "         + gg.stat_summary()\n",
    "         + gg.stat_summary(geom='line')\n",
    "         + gg.geom_hline(yintercept=0, linetype='dotted')\n",
    "         + gg.labs(y='Acc. diff. 1st pres. each star (blocks {})'.format(blocks), color='')\n",
    "        )\n",
    "    print(g)"
   ]
  },
  {
   "cell_type": "markdown",
   "metadata": {},
   "source": [
    "# OLD AND BROKEN"
   ]
  },
  {
   "cell_type": "markdown",
   "metadata": {},
   "source": [
    "## Frequency of middle-layer item after first discovery"
   ]
  },
  {
   "cell_type": "code",
   "execution_count": null,
   "metadata": {},
   "outputs": [],
   "source": [
    "first_dat"
   ]
  },
  {
   "cell_type": "code",
   "execution_count": null,
   "metadata": {},
   "outputs": [],
   "source": [
    "first_dat1 = first_dat.loc[first_dat['subtrial'] == 1].reset_index()\n",
    "first_dat3 = first_dat.loc[first_dat['subtrial'] == 3].reset_index()\n",
    "first_dat1"
   ]
  },
  {
   "cell_type": "code",
   "execution_count": null,
   "metadata": {},
   "outputs": [],
   "source": [
    "def make_first_dat_extra(first_dat, trial_shifts=range(-5, 10), subtrial=[]):\n",
    "\n",
    "    first_dat_extra = pd.DataFrame()\n",
    "\n",
    "    # Find trials around item discovery and concat into a dataframe\n",
    "    for row_i in range(first_dat.shape[0]):\n",
    "\n",
    "        if (row_i % 50) == 1:\n",
    "            print('{} of {} rows ({}%)                       '.format(\n",
    "                row_i+1, first_dat.shape[0], 100 * np.round((row_i+1) / first_dat.shape[0], 3)), end='\\r')\n",
    "\n",
    "        for trial_shift in trial_shifts:\n",
    "            row = first_dat.loc[row_i, ['sid', 'trial_type', 'phase', 'block', 'trial', 'subtrial', 'middle_item']]\n",
    "            row['trial'] += trial_shift\n",
    "            if subtrial:\n",
    "                row['subtrial'] = subtrial\n",
    "            row['trial_reltofirst'] = trial_shift\n",
    "            first_dat_extra = first_dat_extra.append(row)\n",
    "            \n",
    "    # Beatify dataframe\n",
    "    first_dat_extra = first_dat_extra.rename(columns={'middle_item': 'middle_item_sequence', 'subtrial': 'subtrial_sequence'})\n",
    "    first_dat_extra = first_dat_extra.loc[first_dat_extra['trial'] >= 0]\n",
    "    first_dat_extra['trial_reltofirst'] = first_dat_extra['trial_reltofirst'].astype(int)\n",
    "    first_dat_extra = first_dat_extra.reset_index(drop=True)\n",
    "            \n",
    "    return first_dat_extra\n",
    "\n",
    "# # Example use\n",
    "# make_first_dat_extra(first_dat3[:100], subtrial=1)"
   ]
  },
  {
   "cell_type": "code",
   "execution_count": null,
   "metadata": {
    "scrolled": true
   },
   "outputs": [],
   "source": [
    "first_datnot_extra = make_first_dat_extra(first_dat_not[:100].rename(columns={'middle_item1_not': 'middle_item'}))\n",
    "first_datnot_extra"
   ]
  },
  {
   "cell_type": "code",
   "execution_count": null,
   "metadata": {},
   "outputs": [],
   "source": [
    "first_dat1_extra = make_first_dat_extra(first_dat1[:100], subtrial=1)\n",
    "first_dat3_extra = make_first_dat_extra(first_dat3[:100], subtrial=1)"
   ]
  },
  {
   "cell_type": "code",
   "execution_count": null,
   "metadata": {},
   "outputs": [],
   "source": [
    "first_dat1_extra['discovery_trial'] = 1\n",
    "first_dat3_extra['discovery_trial'] = 3\n",
    "first_datnot_extra['discovery_trial'] = 'no sequence'"
   ]
  },
  {
   "cell_type": "code",
   "execution_count": null,
   "metadata": {},
   "outputs": [],
   "source": [
    "first_dat13_extra = pd.concat([\n",
    "    first_dat1_extra,\n",
    "    first_dat3_extra,\n",
    "    first_datnot_extra\n",
    "]).reset_index(drop=True)\n",
    "first_dat13_extra"
   ]
  },
  {
   "cell_type": "code",
   "execution_count": null,
   "metadata": {
    "scrolled": true
   },
   "outputs": [],
   "source": [
    "f_dat13 = pd.merge(first_dat13_extra, all_data, how='left')\n",
    "f_dat13['same_item_again'] = 0\n",
    "\n",
    "for item in range(4):\n",
    "    f_dat13['bool_item_{}'.format(item)] = (f_dat13['middle_item'] == item).astype(int)\n",
    "    f_dat13.loc[(f_dat13['middle_item_sequence'] == item) & (f_dat13['bool_item_{}'.format(item)] == 1), 'same_item_again'] = 1\n",
    "\n",
    "f_dat13[['sid', 'trial_type', 'phase', 'block', 'trial', 'subtrial', 'trial_reltofirst', 'rt', 'middle_item',\n",
    "       'middle_item_sequence', 'subtrial_sequence', 'bool_item_1']]"
   ]
  },
  {
   "cell_type": "code",
   "execution_count": null,
   "metadata": {
    "scrolled": true
   },
   "outputs": [],
   "source": [
    "f_dat13.columns"
   ]
  },
  {
   "cell_type": "code",
   "execution_count": null,
   "metadata": {},
   "outputs": [],
   "source": [
    "subj_dat = f_dat13.loc[f_dat13['subtrial'] == 1].groupby([\n",
    "    'sid', 'phase', 'trial_type', 'trial_reltofirst', 'discovery_trial'\n",
    "]).aggregate('mean').reset_index()\n",
    "\n",
    "g = (gg.ggplot(subj_dat, gg.aes('trial_reltofirst', 'same_item_again', color='factor(discovery_trial)'))\n",
    "     + gg.stat_summary()\n",
    "     + gg.stat_summary(geom='line')\n",
    "     + gg.facet_grid('phase ~ trial_type')\n",
    "    )\n",
    "g"
   ]
  },
  {
   "cell_type": "code",
   "execution_count": null,
   "metadata": {},
   "outputs": [],
   "source": [
    "f_dat['true_item'] = f_dat['middle_item_both'] < 4"
   ]
  },
  {
   "cell_type": "code",
   "execution_count": null,
   "metadata": {},
   "outputs": [],
   "source": [
    "f_dat"
   ]
  },
  {
   "cell_type": "code",
   "execution_count": null,
   "metadata": {},
   "outputs": [],
   "source": [
    "first_dat[:30]"
   ]
  },
  {
   "cell_type": "code",
   "execution_count": null,
   "metadata": {
    "scrolled": false
   },
   "outputs": [],
   "source": [
    "f_dat.loc[(f_dat['middle_item_both_sequence'] == 0) & (f_dat['trial_reltofirst'] <= 0) & (f_dat['bool_item_0'] == 1),\n",
    "          ['sid', 'phase', 'trial_type', 'trial', 'block', 'trial_reltofirst', 'subtrial', 'middle_item_both_sequence', 'subtrial_sequence', 'action_id', 'bool_item_0']\n",
    "         ][:30]"
   ]
  },
  {
   "cell_type": "code",
   "execution_count": null,
   "metadata": {},
   "outputs": [],
   "source": [
    "subj_dat = f_dat.loc[(f_dat['middle_item_both_sequence'] == 0) & (f_dat['subtrial_sequence'] == 1)].groupby([\n",
    "    'sid', 'phase', 'trial_type', 'trial_reltofirst', 'true_item', 'middle_item_both_sequence', 'block', 'subtrial_sequence',\n",
    "]).aggregate('mean').reset_index()\n",
    "\n",
    "g = (gg.ggplot(subj_dat, gg.aes('trial_reltofirst', 'bool_item_0', color='true_item'))\n",
    "     + gg.stat_summary()\n",
    "     + gg.stat_summary(geom='line')\n",
    "     + gg.facet_grid('phase + subtrial_sequence ~ trial_type + middle_item_both_sequence')\n",
    "    )\n",
    "g"
   ]
  },
  {
   "cell_type": "code",
   "execution_count": null,
   "metadata": {},
   "outputs": [],
   "source": [
    "subj_dat = f_dat.loc[f_dat['subtrial'] == 1].groupby([\n",
    "    'sid', 'phase', 'trial_type', 'trial_reltofirst', 'true_item', 'middle_item_both_sequence', 'block', 'subtrial_sequence',\n",
    "]).aggregate('mean').reset_index()\n",
    "\n",
    "g = (gg.ggplot(subj_dat, gg.aes('trial_reltofirst', 'same_item_again', color='true_item'))\n",
    "     + gg.stat_summary()\n",
    "     + gg.stat_summary(geom='line')\n",
    "     + gg.facet_grid('phase + subtrial_sequence ~ trial_type + middle_item_both_sequence')\n",
    "    )\n",
    "g"
   ]
  },
  {
   "cell_type": "code",
   "execution_count": null,
   "metadata": {},
   "outputs": [],
   "source": []
  },
  {
   "cell_type": "code",
   "execution_count": null,
   "metadata": {},
   "outputs": [],
   "source": [
    "f_dat = pd.merge(first_dat13_extra, all_data, how='left')\n",
    "f_dat['same_item_again'] = 0\n",
    "\n",
    "for item in np.unique(f_dat.loc[np.invert(np.isnan(f_dat['middle_item_both'])), 'middle_item_both']):\n",
    "    f_dat['bool_item_{}'.format(item)] = (f_dat['middle_item'] == item)#.astype(int)\n",
    "    f_dat.loc[(f_dat['middle_item_sequence'] == item) & (f_dat['bool_item_{}'.format(item)] == 1), 'same_item_again'] = 1\n",
    "\n",
    "f_dat[['sid', 'trial_type', 'phase', 'block', 'trial', 'subtrial', 'trial_reltofirst', 'rt', 'middle_item',\n",
    "       'middle_item_sequence', 'subtrial_sequence', 'bool_item_1.0']]"
   ]
  },
  {
   "cell_type": "code",
   "execution_count": null,
   "metadata": {},
   "outputs": [],
   "source": [
    "f_dat['same_item_again'] = 0\n",
    "f_dat.loc[(f_dat['middle_item_sequence'] == 0) & (f_dat['bool_item_0.0'] == 1), 'same_item_again'] = 1\n",
    "f_dat.loc[(f_dat['middle_item_sequence'] == 1) & (f_dat['bool_item_1.0'] == 1), 'same_item_again'] = 1\n",
    "f_dat.loc[(f_dat['middle_item_sequence'] == 2) & (f_dat['bool_item_2.0'] == 1), 'same_item_again'] = 1\n",
    "f_dat.loc[(f_dat['middle_item_sequence'] == 3) & (f_dat['bool_item_3.0'] == 1), 'same_item_again'] = 1\n",
    "f_dat"
   ]
  },
  {
   "cell_type": "code",
   "execution_count": null,
   "metadata": {},
   "outputs": [],
   "source": [
    "np.unique(f_dat.loc[f_dat['subtrial'] == f_dat['subtrial_sequence'], ['subtrial']])"
   ]
  },
  {
   "cell_type": "code",
   "execution_count": null,
   "metadata": {},
   "outputs": [],
   "source": [
    "np.unique(subj_dat['subtrial'])"
   ]
  },
  {
   "cell_type": "code",
   "execution_count": null,
   "metadata": {},
   "outputs": [],
   "source": [
    "np.mean(f_dat['bool_item_3.0'])"
   ]
  },
  {
   "cell_type": "code",
   "execution_count": null,
   "metadata": {},
   "outputs": [],
   "source": [
    "g = (gg.ggplot(f_dat, gg.aes('trial_reltofirst', 'same_item_again'))\n",
    "     + gg.stat_summary()\n",
    "    )\n",
    "g"
   ]
  },
  {
   "cell_type": "code",
   "execution_count": null,
   "metadata": {},
   "outputs": [],
   "source": [
    "# subj_dat = first_dat_extra.groubpy(['sid', 'phase', 'trial_type', 'trial_reltofirst']).aggregate('mean').reset_index()\n",
    "subj_dat = f_dat.loc[f_dat['subtrial'] == f_dat['subtrial_sequence']\n",
    "                    ].groupby(['sid', 'phase', 'trial_type', 'acc', 'trial_reltofirst', 'subtrial_sequence', 'middle_item_sequence']).aggregate('mean').reset_index()\n",
    "\n",
    "gg.options.figure_size = (8, 6)\n",
    "g = (gg.ggplot(subj_dat, gg.aes('trial_reltofirst', 'same_item_again', color='middle_item_sequence', group='middle_item_sequence'))\n",
    "     + gg.stat_summary()\n",
    "     + gg.stat_summary(geom='line')\n",
    "     + gg.coord_cartesian(xlim=(-1, 9))\n",
    "     + gg.geom_vline(xintercept=0, linetype='dotted')\n",
    "     + gg.geom_hline(yintercept=0, linetype='dotted')\n",
    "     + gg.facet_grid('acc + phase ~ trial_type + subtrial_sequence', labeller='label_both')\n",
    "    )\n",
    "print(g)\n",
    "g.save(os.path.join(plot_dir, '105_itemFrequencyOverTrialsreltofirst.png'))"
   ]
  },
  {
   "cell_type": "code",
   "execution_count": null,
   "metadata": {},
   "outputs": [],
   "source": [
    "# same_item_again ~ star_performance + modified_item + trial_reltofirst + item_necessary_for_goal_star_at_this_position"
   ]
  },
  {
   "cell_type": "code",
   "execution_count": null,
   "metadata": {},
   "outputs": [],
   "source": [
    "mod_dat = f_dat.loc[f_dat['trial_type'] == 'learning',\n",
    "                    ['sid', 'same_item_again', 'trial_reltofirst', 'trial_type', 'subtrial_sequence', 'phase']].dropna()\n",
    "mod = smf.mixedlm(\n",
    "    formula='same_item_again ~ trial_reltofirst',\n",
    "    data=mod_dat, groups=mod_dat['sid']\n",
    ").fit()\n",
    "mod.summary()"
   ]
  },
  {
   "cell_type": "code",
   "execution_count": null,
   "metadata": {
    "scrolled": false
   },
   "outputs": [],
   "source": [
    "mod_dat = f_dat.loc[f_dat['trial_type'] == 'transfer',\n",
    "                    ['sid', 'same_item_again', 'trial_reltofirst', 'trial_type', 'subtrial_sequence', 'phase']].dropna()\n",
    "mod = smf.mixedlm(\n",
    "    formula='same_item_again ~ trial_reltofirst + C(subtrial_sequence) * phase',\n",
    "    data=mod_dat, groups=mod_dat['sid']\n",
    ").fit()\n",
    "mod.summary()"
   ]
  },
  {
   "cell_type": "code",
   "execution_count": null,
   "metadata": {
    "scrolled": false
   },
   "outputs": [],
   "source": [
    "mod_dat = f_dat.loc[f_dat['trial_type'] == 'learning',\n",
    "                    ['sid', 'same_item_again', 'trial_reltofirst', 'trial_type', 'subtrial_sequence', 'phase']].dropna()\n",
    "mod = smf.mixedlm(\n",
    "    formula='same_item_again ~ trial_reltofirst + C(subtrial_sequence) * phase',\n",
    "    data=mod_dat, groups=mod_dat['sid']\n",
    ").fit()\n",
    "mod.summary()"
   ]
  },
  {
   "cell_type": "code",
   "execution_count": null,
   "metadata": {},
   "outputs": [],
   "source": [
    "gg.options.figure_size = (5, 4)\n",
    "subj_dat = f_dat.groupby(['sid', 'phase', 'trial_type', 'trial_reltofirst', 'middle_item_sequence']).aggregate('mean').reset_index()\n",
    "g = g + gg.facet_grid('phase ~ trial_type')\n",
    "g.data = subj_dat\n",
    "g"
   ]
  },
  {
   "cell_type": "code",
   "execution_count": null,
   "metadata": {},
   "outputs": [],
   "source": [
    "# subj_dat = first_dat_extra.groubpy(['sid', 'phase', 'trial_type', 'trial_reltofirst']).aggregate('mean').reset_index()\n",
    "subj_dat = f_dat.loc[f_dat['subtrial'] == 1].groupby(['sid', 'phase', 'trial_type', 'trial_reltofirst', 'subtrial_sequence', 'middle_item_sequence']).aggregate('mean').reset_index()\n",
    "\n",
    "g = (gg.ggplot(subj_dat, gg.aes('trial_reltofirst', 'bool_item_0.0', color='middle_item_sequence', group='middle_item_sequence'))\n",
    "     + gg.stat_summary()\n",
    "     + gg.stat_summary(geom='line')\n",
    "     + gg.geom_vline(xintercept=0, linetype='dotted')\n",
    "     + gg.facet_grid('phase + subtrial_sequence ~ trial_type')\n",
    "    )\n",
    "print(g)\n",
    "g.save(os.path.join(plot_dir, '105_itemFrequencyOverTrialsreltofirst.png'))"
   ]
  },
  {
   "cell_type": "code",
   "execution_count": null,
   "metadata": {},
   "outputs": [],
   "source": [
    "g += gg.aes(y='bool_item_1.0')\n",
    "g"
   ]
  },
  {
   "cell_type": "code",
   "execution_count": null,
   "metadata": {},
   "outputs": [],
   "source": [
    "g += gg.aes(y='bool_item_2.0')\n",
    "g"
   ]
  },
  {
   "cell_type": "code",
   "execution_count": null,
   "metadata": {},
   "outputs": [],
   "source": [
    "g += gg.aes(y='bool_item_3.0')\n",
    "g"
   ]
  },
  {
   "cell_type": "code",
   "execution_count": null,
   "metadata": {},
   "outputs": [],
   "source": []
  }
 ],
 "metadata": {
  "kernelspec": {
   "display_name": "notebooks",
   "language": "python",
   "name": "notebooks"
  },
  "language_info": {
   "codemirror_mode": {
    "name": "ipython",
    "version": 3
   },
   "file_extension": ".py",
   "mimetype": "text/x-python",
   "name": "python",
   "nbconvert_exporter": "python",
   "pygments_lexer": "ipython3",
   "version": "3.8.5"
  }
 },
 "nbformat": 4,
 "nbformat_minor": 4
}
